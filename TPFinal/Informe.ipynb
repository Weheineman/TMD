{
 "cells": [
  {
   "cell_type": "markdown",
   "metadata": {},
   "source": [
    "# Setup\n",
    "(no sé si hace falta con Jupyter pero lo dejo por las dudas, entiendo que sí)\n",
    "\n",
    "This project uses Python version `3.8`.\n",
    "\n",
    "From the project root directory, on a [virtual Python environment](https://virtualenvwrapper.readthedocs.io/en/latest/) (or not, if you're feeling brave), run:\n",
    "```bash\n",
    "pip3 install -r requirements.txt\n",
    "```\n",
    "\n",
    "Make sure that the source directory is added to your `$PYTHONPATH` environment variable."
   ]
  },
  {
   "cell_type": "code",
   "execution_count": 1,
   "metadata": {},
   "outputs": [],
   "source": [
    "import pandas as pd\n",
    "import numpy as np\n",
    "import seaborn as sns"
   ]
  },
  {
   "cell_type": "markdown",
   "metadata": {},
   "source": [
    "# Dataset\n",
    "Dediqué bastante tiempo a buscar un dataset. Recuerdo que dijiste que \"a partir de 50 variables es más divertido\", pero principalmente encontré tres tipos de datasets:\n",
    "\n",
    "* Datos listos para usar, con menos de 15 variables ya procesadas.\n",
    "* Tablas gigantes con un montón de variables, llenas de valores inválidos y sin un target feature claro.\n",
    "* Datasets de clasificación de imágenes.\n",
    "\n",
    "Finalmente elegí [Rain in Australia](https://www.kaggle.com/datasets/jsphyg/weather-dataset-rattle-package), que si bien solo tiene dos clases, tiene 23 columnas de diversos tipos y requiere bastante preprocesamiento. Son datos meteorológicos de Australia con un target feature `RainTomorrow`, que responde a la pregunta \"¿llovió al día siguiente?\". Los datos están en `weatherAUS.csv`."
   ]
  },
  {
   "cell_type": "markdown",
   "metadata": {},
   "source": [
    "# Preprocesamiento de datos\n"
   ]
  },
  {
   "cell_type": "code",
   "execution_count": 2,
   "metadata": {},
   "outputs": [
    {
     "name": "stdout",
     "output_type": "stream",
     "text": [
      "<class 'pandas.core.frame.DataFrame'>\n",
      "RangeIndex: 145460 entries, 0 to 145459\n",
      "Data columns (total 23 columns):\n",
      " #   Column         Non-Null Count   Dtype  \n",
      "---  ------         --------------   -----  \n",
      " 0   Date           145460 non-null  object \n",
      " 1   Location       145460 non-null  object \n",
      " 2   MinTemp        143975 non-null  float64\n",
      " 3   MaxTemp        144199 non-null  float64\n",
      " 4   Rainfall       142199 non-null  float64\n",
      " 5   Evaporation    82670 non-null   float64\n",
      " 6   Sunshine       75625 non-null   float64\n",
      " 7   WindGustDir    135134 non-null  object \n",
      " 8   WindGustSpeed  135197 non-null  float64\n",
      " 9   WindDir9am     134894 non-null  object \n",
      " 10  WindDir3pm     141232 non-null  object \n",
      " 11  WindSpeed9am   143693 non-null  float64\n",
      " 12  WindSpeed3pm   142398 non-null  float64\n",
      " 13  Humidity9am    142806 non-null  float64\n",
      " 14  Humidity3pm    140953 non-null  float64\n",
      " 15  Pressure9am    130395 non-null  float64\n",
      " 16  Pressure3pm    130432 non-null  float64\n",
      " 17  Cloud9am       89572 non-null   float64\n",
      " 18  Cloud3pm       86102 non-null   float64\n",
      " 19  Temp9am        143693 non-null  float64\n",
      " 20  Temp3pm        141851 non-null  float64\n",
      " 21  RainToday      142199 non-null  object \n",
      " 22  RainTomorrow   142193 non-null  object \n",
      "dtypes: float64(16), object(7)\n",
      "memory usage: 25.5+ MB\n"
     ]
    }
   ],
   "source": [
    "data_frame = pd.read_csv(\"weatherAUS.csv\")\n",
    "data_frame.info()"
   ]
  },
  {
   "cell_type": "markdown",
   "metadata": {},
   "source": [
    "A primera vista vemos que las columnas tienen distintos tipos (`float64` para valores numéricos, `object` para variables categóricas) y que faltan valores. Ignoro por qué el tipo de las categóricas es `object` y no `string`."
   ]
  },
  {
   "cell_type": "markdown",
   "metadata": {},
   "source": [
    "## Variables redundantes\n",
    "`RainToday` se puede deducir a partir de `Rainfall` (vale `\"Yes\"` si `Rainfall` es mayor a 1), por lo que la elimino."
   ]
  },
  {
   "cell_type": "code",
   "execution_count": 3,
   "metadata": {},
   "outputs": [],
   "source": [
    "data_frame.drop(columns=\"RainToday\", inplace=True)"
   ]
  },
  {
   "cell_type": "markdown",
   "metadata": {},
   "source": [
    "## Datos faltantes\n",
    "La verdad no tengo idea de meteorología (ni del dataset en específico) y no tengo a quién preguntarle, así que no voy a rellenar datos. Mi criterio fue:\n",
    "* Si falta `RainTomorrow`, borro la fila.\n",
    "* Si falta más del 10% de los datos de una columna, elimino la variable.\n",
    "* Si falta hasta el 10% de los datos de una columna, borro las filas donde no esté (total tengo muchos puntos).\n"
   ]
  },
  {
   "cell_type": "code",
   "execution_count": 4,
   "metadata": {},
   "outputs": [],
   "source": [
    "data_frame = data_frame[data_frame[\"RainTomorrow\"].notna()]\n",
    "data_frame = data_frame.loc[:, data_frame.isnull().mean() < 0.1]\n",
    "data_frame = data_frame.dropna()"
   ]
  },
  {
   "cell_type": "markdown",
   "metadata": {},
   "source": [
    "## Variables numéricas"
   ]
  },
  {
   "cell_type": "code",
   "execution_count": 5,
   "metadata": {},
   "outputs": [
    {
     "data": {
      "text/html": [
       "<div>\n",
       "<style scoped>\n",
       "    .dataframe tbody tr th:only-of-type {\n",
       "        vertical-align: middle;\n",
       "    }\n",
       "\n",
       "    .dataframe tbody tr th {\n",
       "        vertical-align: top;\n",
       "    }\n",
       "\n",
       "    .dataframe thead th {\n",
       "        text-align: right;\n",
       "    }\n",
       "</style>\n",
       "<table border=\"1\" class=\"dataframe\">\n",
       "  <thead>\n",
       "    <tr style=\"text-align: right;\">\n",
       "      <th></th>\n",
       "      <th>MinTemp</th>\n",
       "      <th>MaxTemp</th>\n",
       "      <th>Rainfall</th>\n",
       "      <th>WindGustSpeed</th>\n",
       "      <th>WindSpeed9am</th>\n",
       "      <th>WindSpeed3pm</th>\n",
       "      <th>Humidity9am</th>\n",
       "      <th>Humidity3pm</th>\n",
       "      <th>Pressure9am</th>\n",
       "      <th>Pressure3pm</th>\n",
       "      <th>Temp9am</th>\n",
       "      <th>Temp3pm</th>\n",
       "    </tr>\n",
       "  </thead>\n",
       "  <tbody>\n",
       "    <tr>\n",
       "      <th>count</th>\n",
       "      <td>112925.000000</td>\n",
       "      <td>112925.000000</td>\n",
       "      <td>112925.000000</td>\n",
       "      <td>112925.000000</td>\n",
       "      <td>112925.000000</td>\n",
       "      <td>112925.000000</td>\n",
       "      <td>112925.000000</td>\n",
       "      <td>112925.000000</td>\n",
       "      <td>112925.000000</td>\n",
       "      <td>112925.000000</td>\n",
       "      <td>112925.000000</td>\n",
       "      <td>112925.000000</td>\n",
       "    </tr>\n",
       "    <tr>\n",
       "      <th>mean</th>\n",
       "      <td>12.664721</td>\n",
       "      <td>23.655670</td>\n",
       "      <td>2.377892</td>\n",
       "      <td>40.786611</td>\n",
       "      <td>15.179163</td>\n",
       "      <td>19.500545</td>\n",
       "      <td>67.404162</td>\n",
       "      <td>50.669055</td>\n",
       "      <td>1017.425847</td>\n",
       "      <td>1015.048962</td>\n",
       "      <td>17.462008</td>\n",
       "      <td>22.127306</td>\n",
       "    </tr>\n",
       "    <tr>\n",
       "      <th>std</th>\n",
       "      <td>6.254135</td>\n",
       "      <td>6.982702</td>\n",
       "      <td>8.602968</td>\n",
       "      <td>13.321774</td>\n",
       "      <td>8.344304</td>\n",
       "      <td>8.580097</td>\n",
       "      <td>18.911610</td>\n",
       "      <td>20.768550</td>\n",
       "      <td>7.032654</td>\n",
       "      <td>6.957822</td>\n",
       "      <td>6.355045</td>\n",
       "      <td>6.837380</td>\n",
       "    </tr>\n",
       "    <tr>\n",
       "      <th>min</th>\n",
       "      <td>-8.200000</td>\n",
       "      <td>2.600000</td>\n",
       "      <td>0.000000</td>\n",
       "      <td>7.000000</td>\n",
       "      <td>2.000000</td>\n",
       "      <td>2.000000</td>\n",
       "      <td>0.000000</td>\n",
       "      <td>0.000000</td>\n",
       "      <td>980.500000</td>\n",
       "      <td>977.100000</td>\n",
       "      <td>-3.100000</td>\n",
       "      <td>1.700000</td>\n",
       "    </tr>\n",
       "    <tr>\n",
       "      <th>25%</th>\n",
       "      <td>8.100000</td>\n",
       "      <td>18.300000</td>\n",
       "      <td>0.000000</td>\n",
       "      <td>31.000000</td>\n",
       "      <td>9.000000</td>\n",
       "      <td>13.000000</td>\n",
       "      <td>56.000000</td>\n",
       "      <td>36.000000</td>\n",
       "      <td>1012.800000</td>\n",
       "      <td>1010.300000</td>\n",
       "      <td>12.700000</td>\n",
       "      <td>16.900000</td>\n",
       "    </tr>\n",
       "    <tr>\n",
       "      <th>50%</th>\n",
       "      <td>12.400000</td>\n",
       "      <td>23.100000</td>\n",
       "      <td>0.000000</td>\n",
       "      <td>39.000000</td>\n",
       "      <td>13.000000</td>\n",
       "      <td>19.000000</td>\n",
       "      <td>68.000000</td>\n",
       "      <td>51.000000</td>\n",
       "      <td>1017.400000</td>\n",
       "      <td>1015.000000</td>\n",
       "      <td>17.100000</td>\n",
       "      <td>21.600000</td>\n",
       "    </tr>\n",
       "    <tr>\n",
       "      <th>75%</th>\n",
       "      <td>17.200000</td>\n",
       "      <td>28.700000</td>\n",
       "      <td>0.800000</td>\n",
       "      <td>48.000000</td>\n",
       "      <td>20.000000</td>\n",
       "      <td>24.000000</td>\n",
       "      <td>81.000000</td>\n",
       "      <td>65.000000</td>\n",
       "      <td>1022.100000</td>\n",
       "      <td>1019.700000</td>\n",
       "      <td>22.000000</td>\n",
       "      <td>26.900000</td>\n",
       "    </tr>\n",
       "    <tr>\n",
       "      <th>max</th>\n",
       "      <td>33.900000</td>\n",
       "      <td>48.100000</td>\n",
       "      <td>367.600000</td>\n",
       "      <td>135.000000</td>\n",
       "      <td>87.000000</td>\n",
       "      <td>87.000000</td>\n",
       "      <td>100.000000</td>\n",
       "      <td>100.000000</td>\n",
       "      <td>1041.000000</td>\n",
       "      <td>1039.600000</td>\n",
       "      <td>40.200000</td>\n",
       "      <td>46.700000</td>\n",
       "    </tr>\n",
       "  </tbody>\n",
       "</table>\n",
       "</div>"
      ],
      "text/plain": [
       "             MinTemp        MaxTemp       Rainfall  WindGustSpeed  \\\n",
       "count  112925.000000  112925.000000  112925.000000  112925.000000   \n",
       "mean       12.664721      23.655670       2.377892      40.786611   \n",
       "std         6.254135       6.982702       8.602968      13.321774   \n",
       "min        -8.200000       2.600000       0.000000       7.000000   \n",
       "25%         8.100000      18.300000       0.000000      31.000000   \n",
       "50%        12.400000      23.100000       0.000000      39.000000   \n",
       "75%        17.200000      28.700000       0.800000      48.000000   \n",
       "max        33.900000      48.100000     367.600000     135.000000   \n",
       "\n",
       "        WindSpeed9am   WindSpeed3pm    Humidity9am    Humidity3pm  \\\n",
       "count  112925.000000  112925.000000  112925.000000  112925.000000   \n",
       "mean       15.179163      19.500545      67.404162      50.669055   \n",
       "std         8.344304       8.580097      18.911610      20.768550   \n",
       "min         2.000000       2.000000       0.000000       0.000000   \n",
       "25%         9.000000      13.000000      56.000000      36.000000   \n",
       "50%        13.000000      19.000000      68.000000      51.000000   \n",
       "75%        20.000000      24.000000      81.000000      65.000000   \n",
       "max        87.000000      87.000000     100.000000     100.000000   \n",
       "\n",
       "         Pressure9am    Pressure3pm        Temp9am        Temp3pm  \n",
       "count  112925.000000  112925.000000  112925.000000  112925.000000  \n",
       "mean     1017.425847    1015.048962      17.462008      22.127306  \n",
       "std         7.032654       6.957822       6.355045       6.837380  \n",
       "min       980.500000     977.100000      -3.100000       1.700000  \n",
       "25%      1012.800000    1010.300000      12.700000      16.900000  \n",
       "50%      1017.400000    1015.000000      17.100000      21.600000  \n",
       "75%      1022.100000    1019.700000      22.000000      26.900000  \n",
       "max      1041.000000    1039.600000      40.200000      46.700000  "
      ]
     },
     "execution_count": 5,
     "metadata": {},
     "output_type": "execute_result"
    }
   ],
   "source": [
    "numeric_df = data_frame.select_dtypes(\"number\")\n",
    "numeric_df.describe()"
   ]
  },
  {
   "cell_type": "markdown",
   "metadata": {},
   "source": [
    "### Outliers"
   ]
  },
  {
   "cell_type": "code",
   "execution_count": 6,
   "metadata": {},
   "outputs": [
    {
     "data": {
      "text/plain": [
       "<AxesSubplot:>"
      ]
     },
     "execution_count": 6,
     "metadata": {},
     "output_type": "execute_result"
    },
    {
     "data": {
      "image/png": "[encoded data removed]",
      "text/plain": [
       "<Figure size 432x288 with 1 Axes>"
      ]
     },
     "metadata": {
      "needs_background": "light"
     },
     "output_type": "display_data"
    }
   ],
   "source": [
    "numeric_df.boxplot([col for col in data_frame if \"Temp\" in col])"
   ]
  },
  {
   "cell_type": "code",
   "execution_count": 7,
   "metadata": {},
   "outputs": [
    {
     "data": {
      "text/plain": [
       "<AxesSubplot:>"
      ]
     },
     "execution_count": 7,
     "metadata": {},
     "output_type": "execute_result"
    },
    {
     "data": {
      "image/png": "[encoded data removed]",
      "text/plain": [
       "<Figure size 432x288 with 1 Axes>"
      ]
     },
     "metadata": {
      "needs_background": "light"
     },
     "output_type": "display_data"
    }
   ],
   "source": [
    "numeric_df.boxplot([col for col in data_frame if \"Pressure\" in col])"
   ]
  },
  {
   "cell_type": "code",
   "execution_count": 8,
   "metadata": {},
   "outputs": [
    {
     "data": {
      "text/plain": [
       "<AxesSubplot:>"
      ]
     },
     "execution_count": 8,
     "metadata": {},
     "output_type": "execute_result"
    },
    {
     "data": {
      "image/png": "[encoded data removed]",
      "text/plain": [
       "<Figure size 432x288 with 1 Axes>"
      ]
     },
     "metadata": {
      "needs_background": "light"
     },
     "output_type": "display_data"
    }
   ],
   "source": [
    "numeric_df.boxplot([col for col in data_frame if \"Humidity\" in col])"
   ]
  },
  {
   "cell_type": "code",
   "execution_count": 9,
   "metadata": {},
   "outputs": [
    {
     "data": {
      "text/plain": [
       "<AxesSubplot:>"
      ]
     },
     "execution_count": 9,
     "metadata": {},
     "output_type": "execute_result"
    },
    {
     "data": {
      "image/png": "[encoded data removed]",
      "text/plain": [
       "<Figure size 432x288 with 1 Axes>"
      ]
     },
     "metadata": {
      "needs_background": "light"
     },
     "output_type": "display_data"
    }
   ],
   "source": [
    "numeric_df.boxplot([col for col in data_frame if \"Speed\" in col])"
   ]
  },
  {
   "cell_type": "code",
   "execution_count": 10,
   "metadata": {},
   "outputs": [
    {
     "data": {
      "text/plain": [
       "<AxesSubplot:>"
      ]
     },
     "execution_count": 10,
     "metadata": {},
     "output_type": "execute_result"
    },
    {
     "data": {
      "image/png": "[encoded data removed]",
      "text/plain": [
       "<Figure size 432x288 with 1 Axes>"
      ]
     },
     "metadata": {
      "needs_background": "light"
     },
     "output_type": "display_data"
    }
   ],
   "source": [
    "numeric_df.boxplot([col for col in data_frame if \"Rainfall\" in col])"
   ]
  },
  {
   "cell_type": "markdown",
   "metadata": {},
   "source": [
    "Apa. A ver qué pasó acá. Viendo la tabla anterior, noto que hay muchos 0 (muchos días que no llueve). De hecho Q3 vale menos que 1, que para este problema es no llover. Eliminar o reemplazar los outliers sería ignorar todos los días que llovió, me parece una pésima idea. Voy a dejar los outliers de `Rainfall` como están.\n",
    "\n",
    "Vimos que todas las demás variables también tienen outliers (pero más razonables). Como quiero normalizar los datos luego, me voy a deshacer de esos valores. Al no tener conocimientos meteorológicos, me voy a contentar con forzar límites superior e inferior como 2 veces la distancia intercuartil (entre los cuartiles 1 y 3) para cada variable."
   ]
  },
  {
   "cell_type": "code",
   "execution_count": 11,
   "metadata": {},
   "outputs": [],
   "source": [
    "# Prevent a false positive warning.\n",
    "pd.options.mode.chained_assignment = None\n",
    "\n",
    "for col in numeric_df.drop(columns=\"Rainfall\"):\n",
    "    Q3 = np.quantile(numeric_df[col], 0.75)\n",
    "    Q1 = np.quantile(numeric_df[col], 0.25)\n",
    "    IQR = Q3 - Q1\n",
    "    lower = Q1 - 1.5 * IQR\n",
    "    upper = Q3 + 1.5 * IQR\n",
    "    numeric_df[col].clip(lower=lower, upper=upper, inplace=True)\n",
    "\n",
    "pd.options.mode.chained_assignment = 'warn'"
   ]
  },
  {
   "cell_type": "markdown",
   "metadata": {},
   "source": [
    "### Normalización\n",
    "Dejamos a cada feature con media 0 y varianza 1."
   ]
  },
  {
   "cell_type": "code",
   "execution_count": null,
   "metadata": {},
   "outputs": [],
   "source": [
    "from sklearn.preprocessing import StandardScaler\n",
    "scaler = StandardScaler()\n",
    "features = pd.DataFrame(scaler.fit_transform(numeric_df), columns=numeric_df.columns, index=numeric_df.index)"
   ]
  },
  {
   "cell_type": "markdown",
   "metadata": {},
   "source": [
    "## Variables categóricas"
   ]
  },
  {
   "cell_type": "code",
   "execution_count": null,
   "metadata": {},
   "outputs": [
    {
     "data": {
      "text/html": [
       "<div>\n",
       "<style scoped>\n",
       "    .dataframe tbody tr th:only-of-type {\n",
       "        vertical-align: middle;\n",
       "    }\n",
       "\n",
       "    .dataframe tbody tr th {\n",
       "        vertical-align: top;\n",
       "    }\n",
       "\n",
       "    .dataframe thead th {\n",
       "        text-align: right;\n",
       "    }\n",
       "</style>\n",
       "<table border=\"1\" class=\"dataframe\">\n",
       "  <thead>\n",
       "    <tr style=\"text-align: right;\">\n",
       "      <th></th>\n",
       "      <th>Date</th>\n",
       "      <th>Location</th>\n",
       "      <th>WindGustDir</th>\n",
       "      <th>WindDir9am</th>\n",
       "      <th>WindDir3pm</th>\n",
       "      <th>RainTomorrow</th>\n",
       "    </tr>\n",
       "  </thead>\n",
       "  <tbody>\n",
       "    <tr>\n",
       "      <th>0</th>\n",
       "      <td>2008-12-01</td>\n",
       "      <td>Albury</td>\n",
       "      <td>W</td>\n",
       "      <td>W</td>\n",
       "      <td>WNW</td>\n",
       "      <td>No</td>\n",
       "    </tr>\n",
       "    <tr>\n",
       "      <th>1</th>\n",
       "      <td>2008-12-02</td>\n",
       "      <td>Albury</td>\n",
       "      <td>WNW</td>\n",
       "      <td>NNW</td>\n",
       "      <td>WSW</td>\n",
       "      <td>No</td>\n",
       "    </tr>\n",
       "    <tr>\n",
       "      <th>2</th>\n",
       "      <td>2008-12-03</td>\n",
       "      <td>Albury</td>\n",
       "      <td>WSW</td>\n",
       "      <td>W</td>\n",
       "      <td>WSW</td>\n",
       "      <td>No</td>\n",
       "    </tr>\n",
       "    <tr>\n",
       "      <th>3</th>\n",
       "      <td>2008-12-04</td>\n",
       "      <td>Albury</td>\n",
       "      <td>NE</td>\n",
       "      <td>SE</td>\n",
       "      <td>E</td>\n",
       "      <td>No</td>\n",
       "    </tr>\n",
       "    <tr>\n",
       "      <th>4</th>\n",
       "      <td>2008-12-05</td>\n",
       "      <td>Albury</td>\n",
       "      <td>W</td>\n",
       "      <td>ENE</td>\n",
       "      <td>NW</td>\n",
       "      <td>No</td>\n",
       "    </tr>\n",
       "    <tr>\n",
       "      <th>...</th>\n",
       "      <td>...</td>\n",
       "      <td>...</td>\n",
       "      <td>...</td>\n",
       "      <td>...</td>\n",
       "      <td>...</td>\n",
       "      <td>...</td>\n",
       "    </tr>\n",
       "    <tr>\n",
       "      <th>145454</th>\n",
       "      <td>2017-06-20</td>\n",
       "      <td>Uluru</td>\n",
       "      <td>E</td>\n",
       "      <td>ESE</td>\n",
       "      <td>E</td>\n",
       "      <td>No</td>\n",
       "    </tr>\n",
       "    <tr>\n",
       "      <th>145455</th>\n",
       "      <td>2017-06-21</td>\n",
       "      <td>Uluru</td>\n",
       "      <td>E</td>\n",
       "      <td>SE</td>\n",
       "      <td>ENE</td>\n",
       "      <td>No</td>\n",
       "    </tr>\n",
       "    <tr>\n",
       "      <th>145456</th>\n",
       "      <td>2017-06-22</td>\n",
       "      <td>Uluru</td>\n",
       "      <td>NNW</td>\n",
       "      <td>SE</td>\n",
       "      <td>N</td>\n",
       "      <td>No</td>\n",
       "    </tr>\n",
       "    <tr>\n",
       "      <th>145457</th>\n",
       "      <td>2017-06-23</td>\n",
       "      <td>Uluru</td>\n",
       "      <td>N</td>\n",
       "      <td>SE</td>\n",
       "      <td>WNW</td>\n",
       "      <td>No</td>\n",
       "    </tr>\n",
       "    <tr>\n",
       "      <th>145458</th>\n",
       "      <td>2017-06-24</td>\n",
       "      <td>Uluru</td>\n",
       "      <td>SE</td>\n",
       "      <td>SSE</td>\n",
       "      <td>N</td>\n",
       "      <td>No</td>\n",
       "    </tr>\n",
       "  </tbody>\n",
       "</table>\n",
       "<p>112925 rows × 6 columns</p>\n",
       "</div>"
      ],
      "text/plain": [
       "              Date Location WindGustDir WindDir9am WindDir3pm RainTomorrow\n",
       "0       2008-12-01   Albury           W          W        WNW           No\n",
       "1       2008-12-02   Albury         WNW        NNW        WSW           No\n",
       "2       2008-12-03   Albury         WSW          W        WSW           No\n",
       "3       2008-12-04   Albury          NE         SE          E           No\n",
       "4       2008-12-05   Albury           W        ENE         NW           No\n",
       "...            ...      ...         ...        ...        ...          ...\n",
       "145454  2017-06-20    Uluru           E        ESE          E           No\n",
       "145455  2017-06-21    Uluru           E         SE        ENE           No\n",
       "145456  2017-06-22    Uluru         NNW         SE          N           No\n",
       "145457  2017-06-23    Uluru           N         SE        WNW           No\n",
       "145458  2017-06-24    Uluru          SE        SSE          N           No\n",
       "\n",
       "[112925 rows x 6 columns]"
      ]
     },
     "execution_count": 442,
     "metadata": {},
     "output_type": "execute_result"
    }
   ],
   "source": [
    "data_frame.select_dtypes(\"object\")"
   ]
  },
  {
   "cell_type": "markdown",
   "metadata": {},
   "source": [
    "### `Date`\n",
    "Primero pasemos las fechas a `DateTime`. Luego voy a pecar un poco. Me importan dos cosas:\n",
    "* Preservar distancias entre fechas de calendario (sin importar el año). Porque imagino que si todos los 31 de diciembre son muy calurosos, los 1 de enero también. Para esto uso el trucazo que mostraste para variables cíclicas (con la chanchada de considerar 366 días así no pienso en años bisiestos). Tiene el problema de que el análisis univariado me va a dar cualquier cosa.\n",
    "* Considerar los años (por si cada año llueve menos, por ejemplo). Para esto simplemente separo el año."
   ]
  },
  {
   "cell_type": "code",
   "execution_count": null,
   "metadata": {},
   "outputs": [],
   "source": [
    "data_frame[\"Date\"] = pd.to_datetime(data_frame[\"Date\"])\n",
    "data_frame[\"Year\"] = data_frame[\"Date\"].dt.year\n",
    "norm_date = 2 * np.pi * (data_frame[\"Date\"].dt.dayofyear) / 366\n",
    "features[\"SinDate\"] = np.sin(norm_date)\n",
    "features[\"CosDate\"] = np.cos(norm_date)"
   ]
  },
  {
   "cell_type": "markdown",
   "metadata": {},
   "source": [
    "### Direcciones\n",
    "Para las direcciones de viento, primero numero cada dirección empezando por N (que es 0) y continuando en sentido horario según:\n",
    "\n",
    "<img src=\"compass.pbm\" alt=\"compass\" width=\"400\"/>\n",
    "\n",
    "Y luego, como es cícilico, le aplico la misma transformación que a la fecha."
   ]
  },
  {
   "cell_type": "code",
   "execution_count": null,
   "metadata": {},
   "outputs": [],
   "source": [
    "directions = [\n",
    "    \"N\",\n",
    "    \"NNE\",\n",
    "    \"NE\",\n",
    "    \"ENE\",\n",
    "    \"E\",\n",
    "    \"ESE\",\n",
    "    \"SE\",\n",
    "    \"SSE\",\n",
    "    \"S\",\n",
    "    \"SSW\",\n",
    "    \"SW\",\n",
    "    \"WSW\",\n",
    "    \"W\",\n",
    "    \"WNW\",\n",
    "    \"NW\",\n",
    "    \"NNW\",\n",
    "]\n",
    "dir_dict = dict(\n",
    "    [(dir, (2 * np.pi * i) / len(directions)) for i, dir in enumerate(directions)]\n",
    ")\n",
    "for col in [\"WindGustDir\", \"WindDir9am\", \"WindDir3pm\"]:\n",
    "    norm_wind = data_frame[col].replace(dir_dict)\n",
    "    features[f\"Sin{col}\"] = np.sin(norm_wind)\n",
    "    features[f\"Cos{col}\"] = np.cos(norm_wind)"
   ]
  },
  {
   "cell_type": "markdown",
   "metadata": {},
   "source": [
    "### `RainTomorrow`\n",
    "Es binaria, así que la convierto a 0 y 1 para `\"No\"` y `\"Yes\"` respectivamente. Al ser la *target variable*, la asigno a un dataframe aparte."
   ]
  },
  {
   "cell_type": "code",
   "execution_count": null,
   "metadata": {},
   "outputs": [],
   "source": [
    "target = data_frame[\"RainTomorrow\"].eq(\"Yes\").mul(1)"
   ]
  },
  {
   "cell_type": "markdown",
   "metadata": {},
   "source": [
    "### `Location`\n",
    "Veamos si son a lo sumo 20 (así según tu *rule of thumb* hago one hot encoding tranquilo)..."
   ]
  },
  {
   "cell_type": "code",
   "execution_count": null,
   "metadata": {},
   "outputs": [
    {
     "data": {
      "text/plain": [
       "44"
      ]
     },
     "execution_count": 446,
     "metadata": {},
     "output_type": "execute_result"
    }
   ],
   "source": [
    "len(data_frame[\"Location\"].unique())"
   ]
  },
  {
   "cell_type": "markdown",
   "metadata": {},
   "source": [
    "... no. Veamos si puedo deshacerme de alguna etiqueta (por tener pocos valores)..."
   ]
  },
  {
   "cell_type": "code",
   "execution_count": null,
   "metadata": {},
   "outputs": [
    {
     "data": {
      "text/plain": [
       "Tuggeranong    2316\n",
       "Dartmoor       2294\n",
       "Sydney         2259\n",
       "Melbourne      2233\n",
       "Williamtown    2195\n",
       "Richmond       2048\n",
       "Launceston     1538\n",
       "Nhil           1518\n",
       "Uluru          1446\n",
       "Katherine       670\n",
       "Name: Location, dtype: int64"
      ]
     },
     "execution_count": 447,
     "metadata": {},
     "output_type": "execute_result"
    }
   ],
   "source": [
    "data_frame[\"Location\"].value_counts()[-10:]"
   ]
  },
  {
   "cell_type": "markdown",
   "metadata": {},
   "source": [
    "... tampoco. Por ahora descarto esta variable."
   ]
  },
  {
   "cell_type": "markdown",
   "metadata": {},
   "source": [
    "## TODO: Dividir en regiones y llorar."
   ]
  },
  {
   "cell_type": "markdown",
   "metadata": {},
   "source": [
    "## Falsos predictores\n",
    "No veo que sea necesario un análisis con árbol de decisión, pues no veo variables correlacionadas con el target."
   ]
  },
  {
   "cell_type": "markdown",
   "metadata": {},
   "source": [
    "## Balanceo de clases"
   ]
  },
  {
   "cell_type": "code",
   "execution_count": null,
   "metadata": {},
   "outputs": [
    {
     "data": {
      "text/plain": [
       "No     0.778446\n",
       "Yes    0.221554\n",
       "Name: RainTomorrow, dtype: float64"
      ]
     },
     "execution_count": 448,
     "metadata": {},
     "output_type": "execute_result"
    }
   ],
   "source": [
    "data_frame[\"RainTomorrow\"].value_counts()/len(data_frame)"
   ]
  },
  {
   "cell_type": "markdown",
   "metadata": {},
   "source": [
    "Si bien las clases están desbalanceadas, no lo están en en el orden de magnitud de tus ejemplos donde vale la pena hacer sub- u oversampling."
   ]
  }
 ],
 "metadata": {
  "interpreter": {
   "hash": "5cf67404009223a149f1ac82df5e8065ed938111b94819fe08ca8f4545852b74"
  },
  "kernelspec": {
   "display_name": "Python 3.8.10 ('TMD')",
   "language": "python",
   "name": "python3"
  },
  "language_info": {
   "codemirror_mode": {
    "name": "ipython",
    "version": 3
   },
   "file_extension": ".py",
   "mimetype": "text/x-python",
   "name": "python",
   "nbconvert_exporter": "python",
   "pygments_lexer": "ipython3",
   "version": "3.8.10"
  },
  "orig_nbformat": 4
 },
 "nbformat": 4,
 "nbformat_minor": 2
}
