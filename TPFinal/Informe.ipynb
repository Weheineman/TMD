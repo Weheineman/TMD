{
 "cells": [
  {
   "cell_type": "markdown",
   "metadata": {},
   "source": [
    "# Setup\n",
    "(no sé si hace falta con Jupyter pero lo dejo por las dudas)\n",
    "\n",
    "This project uses Python version `3.8`.\n",
    "\n",
    "From the project root directory, on a [virtual Python environment](https://virtualenvwrapper.readthedocs.io/en/latest/) (or not, if you're feeling brave), run:\n",
    "```bash\n",
    "pip3 install -r requirements.txt\n",
    "```\n",
    "\n",
    "Make sure that the source directory is added to your `$PYTHONPATH` environment variable."
   ]
  },
  {
   "cell_type": "markdown",
   "metadata": {},
   "source": [
    "# Dataset\n",
    "Dediqué bastante tiempo a buscar un dataset. Recuerdo que dijiste que \"a partir de 50 variables es más divertido\", pero principalmente encontré tres tipos de datasets:\n",
    "\n",
    "* Datos listos para usar, con menos de 15 variables ya procesadas.\n",
    "* Tablas gigantes con un montón de variables, llenas de valores inválidos y sin un target feature claro.\n",
    "* Datasets de clasificación de imágenes.\n",
    "\n",
    "Finalmente elegí [Rain in Australia](https://www.kaggle.com/datasets/jsphyg/weather-dataset-rattle-package), que si bien solo tiene dos clases, tiene 23 columnas de diversos tipos y requiere bastante preprocesamiento. Son datos meteorológicos de Australia con un target feature `RainTomorrow`, que responde a la pregunta \"¿llovió al día siguiente?\". Los datos están en `weatherAUS.csv`."
   ]
  },
  {
   "cell_type": "markdown",
   "metadata": {},
   "source": [
    "# Preprocesamiento de datos\n"
   ]
  },
  {
   "cell_type": "code",
   "execution_count": 3,
   "metadata": {},
   "outputs": [
    {
     "name": "stdout",
     "output_type": "stream",
     "text": [
      "<class 'pandas.core.frame.DataFrame'>\n",
      "RangeIndex: 145460 entries, 0 to 145459\n",
      "Data columns (total 23 columns):\n",
      " #   Column         Non-Null Count   Dtype  \n",
      "---  ------         --------------   -----  \n",
      " 0   Date           145460 non-null  object \n",
      " 1   Location       145460 non-null  object \n",
      " 2   MinTemp        143975 non-null  float64\n",
      " 3   MaxTemp        144199 non-null  float64\n",
      " 4   Rainfall       142199 non-null  float64\n",
      " 5   Evaporation    82670 non-null   float64\n",
      " 6   Sunshine       75625 non-null   float64\n",
      " 7   WindGustDir    135134 non-null  object \n",
      " 8   WindGustSpeed  135197 non-null  float64\n",
      " 9   WindDir9am     134894 non-null  object \n",
      " 10  WindDir3pm     141232 non-null  object \n",
      " 11  WindSpeed9am   143693 non-null  float64\n",
      " 12  WindSpeed3pm   142398 non-null  float64\n",
      " 13  Humidity9am    142806 non-null  float64\n",
      " 14  Humidity3pm    140953 non-null  float64\n",
      " 15  Pressure9am    130395 non-null  float64\n",
      " 16  Pressure3pm    130432 non-null  float64\n",
      " 17  Cloud9am       89572 non-null   float64\n",
      " 18  Cloud3pm       86102 non-null   float64\n",
      " 19  Temp9am        143693 non-null  float64\n",
      " 20  Temp3pm        141851 non-null  float64\n",
      " 21  RainToday      142199 non-null  object \n",
      " 22  RainTomorrow   142193 non-null  object \n",
      "dtypes: float64(16), object(7)\n",
      "memory usage: 25.5+ MB\n"
     ]
    }
   ],
   "source": [
    "import pandas as pd\n",
    "\n",
    "data_frame = pd.read_csv(\"weatherAUS.csv\")\n",
    "data_frame.info()"
   ]
  },
  {
   "cell_type": "markdown",
   "metadata": {},
   "source": [
    "A primera vista vemos que las columnas tienen distintos tipos (`float64` para valores numéricos, `object` para variables categóricas) y que faltan valores. Ignoro por qué el tipo de las categóricas es `object` y no `string`."
   ]
  },
  {
   "cell_type": "markdown",
   "metadata": {},
   "source": [
    "## Datos faltantes\n",
    "Primero, "
   ]
  }
 ],
 "metadata": {
  "interpreter": {
   "hash": "5cf67404009223a149f1ac82df5e8065ed938111b94819fe08ca8f4545852b74"
  },
  "kernelspec": {
   "display_name": "Python 3.8.10 ('TMD')",
   "language": "python",
   "name": "python3"
  },
  "language_info": {
   "codemirror_mode": {
    "name": "ipython",
    "version": 3
   },
   "file_extension": ".py",
   "mimetype": "text/x-python",
   "name": "python",
   "nbconvert_exporter": "python",
   "pygments_lexer": "ipython3",
   "version": "3.8.10"
  },
  "orig_nbformat": 4
 },
 "nbformat": 4,
 "nbformat_minor": 2
}
