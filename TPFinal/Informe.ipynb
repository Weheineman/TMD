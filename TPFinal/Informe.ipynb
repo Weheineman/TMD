{
 "cells": [
  {
   "cell_type": "markdown",
   "metadata": {},
   "source": [
    "# Setup\n",
    "(no sé si hace falta con Jupyter pero lo dejo por las dudas, entiendo que sí)\n",
    "\n",
    "This project uses Python version `3.8`.\n",
    "\n",
    "From the project root directory, on a [virtual Python environment](https://virtualenvwrapper.readthedocs.io/en/latest/) (or not, if you're feeling brave), run:\n",
    "```bash\n",
    "pip3 install -r requirements.txt\n",
    "```\n",
    "\n",
    "Make sure that the source directory is added to your `$PYTHONPATH` environment variable."
   ]
  },
  {
   "cell_type": "code",
   "execution_count": 3,
   "metadata": {},
   "outputs": [],
   "source": [
    "import matplotlib.pyplot as plt\n",
    "import numpy as np\n",
    "import pandas as pd\n",
    "import seaborn as sns"
   ]
  },
  {
   "cell_type": "markdown",
   "metadata": {},
   "source": [
    "# Dataset\n",
    "Dediqué bastante tiempo a buscar un dataset. Recuerdo que dijiste que \"a partir de 50 variables es más divertido\", pero principalmente encontré tres tipos de datasets:\n",
    "\n",
    "* Datos listos para usar, con menos de 15 variables ya procesadas.\n",
    "* Tablas gigantes con un montón de variables, llenas de valores inválidos y sin un target feature claro.\n",
    "* Datasets de clasificación de imágenes.\n",
    "\n",
    "Finalmente elegí [Rain in Australia](https://www.kaggle.com/datasets/jsphyg/weather-dataset-rattle-package), que si bien solo tiene dos clases, tiene 23 columnas de diversos tipos y requiere bastante preprocesamiento. Son datos meteorológicos de Australia con un target feature `RainTomorrow`, que responde a la pregunta \"¿llovió al día siguiente?\". Los datos están en `weatherAUS.csv`."
   ]
  },
  {
   "cell_type": "markdown",
   "metadata": {},
   "source": [
    "# Preprocesamiento de datos\n"
   ]
  },
  {
   "cell_type": "code",
   "execution_count": 4,
   "metadata": {},
   "outputs": [
    {
     "name": "stdout",
     "output_type": "stream",
     "text": [
      "<class 'pandas.core.frame.DataFrame'>\n",
      "RangeIndex: 145460 entries, 0 to 145459\n",
      "Data columns (total 23 columns):\n",
      " #   Column         Non-Null Count   Dtype  \n",
      "---  ------         --------------   -----  \n",
      " 0   Date           145460 non-null  object \n",
      " 1   Location       145460 non-null  object \n",
      " 2   MinTemp        143975 non-null  float64\n",
      " 3   MaxTemp        144199 non-null  float64\n",
      " 4   Rainfall       142199 non-null  float64\n",
      " 5   Evaporation    82670 non-null   float64\n",
      " 6   Sunshine       75625 non-null   float64\n",
      " 7   WindGustDir    135134 non-null  object \n",
      " 8   WindGustSpeed  135197 non-null  float64\n",
      " 9   WindDir9am     134894 non-null  object \n",
      " 10  WindDir3pm     141232 non-null  object \n",
      " 11  WindSpeed9am   143693 non-null  float64\n",
      " 12  WindSpeed3pm   142398 non-null  float64\n",
      " 13  Humidity9am    142806 non-null  float64\n",
      " 14  Humidity3pm    140953 non-null  float64\n",
      " 15  Pressure9am    130395 non-null  float64\n",
      " 16  Pressure3pm    130432 non-null  float64\n",
      " 17  Cloud9am       89572 non-null   float64\n",
      " 18  Cloud3pm       86102 non-null   float64\n",
      " 19  Temp9am        143693 non-null  float64\n",
      " 20  Temp3pm        141851 non-null  float64\n",
      " 21  RainToday      142199 non-null  object \n",
      " 22  RainTomorrow   142193 non-null  object \n",
      "dtypes: float64(16), object(7)\n",
      "memory usage: 25.5+ MB\n"
     ]
    }
   ],
   "source": [
    "data_frame = pd.read_csv(\"weatherAUS.csv\")\n",
    "data_frame.info()"
   ]
  },
  {
   "cell_type": "markdown",
   "metadata": {},
   "source": [
    "A primera vista vemos que las columnas tienen distintos tipos (`float64` para valores numéricos, `object` para variables categóricas) y que faltan valores. Ignoro por qué el tipo de las categóricas es `object` y no `string`."
   ]
  },
  {
   "cell_type": "markdown",
   "metadata": {},
   "source": [
    "## Variables redundantes\n",
    "`RainToday` se puede deducir a partir de `Rainfall` (vale `\"Yes\"` si `Rainfall` es mayor a 1), por lo que la elimino."
   ]
  },
  {
   "cell_type": "code",
   "execution_count": 5,
   "metadata": {},
   "outputs": [],
   "source": [
    "data_frame.drop(columns=\"RainToday\", inplace=True)"
   ]
  },
  {
   "cell_type": "markdown",
   "metadata": {},
   "source": [
    "## Datos faltantes\n",
    "La verdad no tengo idea de meteorología (ni del dataset en específico) y no tengo a quién preguntarle, así que no voy a rellenar datos. Mi criterio fue:\n",
    "* Si falta `RainTomorrow`, borro la fila.\n",
    "* Si falta más del 10% de los datos de una columna, elimino la variable.\n",
    "* Si falta hasta el 10% de los datos de una columna, borro las filas donde no esté (total tengo muchos puntos).\n"
   ]
  },
  {
   "cell_type": "code",
   "execution_count": 6,
   "metadata": {},
   "outputs": [],
   "source": [
    "data_frame = data_frame[data_frame[\"RainTomorrow\"].notna()]\n",
    "data_frame = data_frame.loc[:, data_frame.isnull().mean() < 0.1]\n",
    "data_frame = data_frame.dropna()"
   ]
  },
  {
   "cell_type": "markdown",
   "metadata": {},
   "source": [
    "## Variables numéricas"
   ]
  },
  {
   "cell_type": "code",
   "execution_count": 7,
   "metadata": {},
   "outputs": [
    {
     "data": {
      "text/html": [
       "<div>\n",
       "<style scoped>\n",
       "    .dataframe tbody tr th:only-of-type {\n",
       "        vertical-align: middle;\n",
       "    }\n",
       "\n",
       "    .dataframe tbody tr th {\n",
       "        vertical-align: top;\n",
       "    }\n",
       "\n",
       "    .dataframe thead th {\n",
       "        text-align: right;\n",
       "    }\n",
       "</style>\n",
       "<table border=\"1\" class=\"dataframe\">\n",
       "  <thead>\n",
       "    <tr style=\"text-align: right;\">\n",
       "      <th></th>\n",
       "      <th>MinTemp</th>\n",
       "      <th>MaxTemp</th>\n",
       "      <th>Rainfall</th>\n",
       "      <th>WindGustSpeed</th>\n",
       "      <th>WindSpeed9am</th>\n",
       "      <th>WindSpeed3pm</th>\n",
       "      <th>Humidity9am</th>\n",
       "      <th>Humidity3pm</th>\n",
       "      <th>Pressure9am</th>\n",
       "      <th>Pressure3pm</th>\n",
       "      <th>Temp9am</th>\n",
       "      <th>Temp3pm</th>\n",
       "    </tr>\n",
       "  </thead>\n",
       "  <tbody>\n",
       "    <tr>\n",
       "      <th>count</th>\n",
       "      <td>112925.000000</td>\n",
       "      <td>112925.000000</td>\n",
       "      <td>112925.000000</td>\n",
       "      <td>112925.000000</td>\n",
       "      <td>112925.000000</td>\n",
       "      <td>112925.000000</td>\n",
       "      <td>112925.000000</td>\n",
       "      <td>112925.000000</td>\n",
       "      <td>112925.000000</td>\n",
       "      <td>112925.000000</td>\n",
       "      <td>112925.000000</td>\n",
       "      <td>112925.000000</td>\n",
       "    </tr>\n",
       "    <tr>\n",
       "      <th>mean</th>\n",
       "      <td>12.664721</td>\n",
       "      <td>23.655670</td>\n",
       "      <td>2.377892</td>\n",
       "      <td>40.786611</td>\n",
       "      <td>15.179163</td>\n",
       "      <td>19.500545</td>\n",
       "      <td>67.404162</td>\n",
       "      <td>50.669055</td>\n",
       "      <td>1017.425847</td>\n",
       "      <td>1015.048962</td>\n",
       "      <td>17.462008</td>\n",
       "      <td>22.127306</td>\n",
       "    </tr>\n",
       "    <tr>\n",
       "      <th>std</th>\n",
       "      <td>6.254135</td>\n",
       "      <td>6.982702</td>\n",
       "      <td>8.602968</td>\n",
       "      <td>13.321774</td>\n",
       "      <td>8.344304</td>\n",
       "      <td>8.580097</td>\n",
       "      <td>18.911610</td>\n",
       "      <td>20.768550</td>\n",
       "      <td>7.032654</td>\n",
       "      <td>6.957822</td>\n",
       "      <td>6.355045</td>\n",
       "      <td>6.837380</td>\n",
       "    </tr>\n",
       "    <tr>\n",
       "      <th>min</th>\n",
       "      <td>-8.200000</td>\n",
       "      <td>2.600000</td>\n",
       "      <td>0.000000</td>\n",
       "      <td>7.000000</td>\n",
       "      <td>2.000000</td>\n",
       "      <td>2.000000</td>\n",
       "      <td>0.000000</td>\n",
       "      <td>0.000000</td>\n",
       "      <td>980.500000</td>\n",
       "      <td>977.100000</td>\n",
       "      <td>-3.100000</td>\n",
       "      <td>1.700000</td>\n",
       "    </tr>\n",
       "    <tr>\n",
       "      <th>25%</th>\n",
       "      <td>8.100000</td>\n",
       "      <td>18.300000</td>\n",
       "      <td>0.000000</td>\n",
       "      <td>31.000000</td>\n",
       "      <td>9.000000</td>\n",
       "      <td>13.000000</td>\n",
       "      <td>56.000000</td>\n",
       "      <td>36.000000</td>\n",
       "      <td>1012.800000</td>\n",
       "      <td>1010.300000</td>\n",
       "      <td>12.700000</td>\n",
       "      <td>16.900000</td>\n",
       "    </tr>\n",
       "    <tr>\n",
       "      <th>50%</th>\n",
       "      <td>12.400000</td>\n",
       "      <td>23.100000</td>\n",
       "      <td>0.000000</td>\n",
       "      <td>39.000000</td>\n",
       "      <td>13.000000</td>\n",
       "      <td>19.000000</td>\n",
       "      <td>68.000000</td>\n",
       "      <td>51.000000</td>\n",
       "      <td>1017.400000</td>\n",
       "      <td>1015.000000</td>\n",
       "      <td>17.100000</td>\n",
       "      <td>21.600000</td>\n",
       "    </tr>\n",
       "    <tr>\n",
       "      <th>75%</th>\n",
       "      <td>17.200000</td>\n",
       "      <td>28.700000</td>\n",
       "      <td>0.800000</td>\n",
       "      <td>48.000000</td>\n",
       "      <td>20.000000</td>\n",
       "      <td>24.000000</td>\n",
       "      <td>81.000000</td>\n",
       "      <td>65.000000</td>\n",
       "      <td>1022.100000</td>\n",
       "      <td>1019.700000</td>\n",
       "      <td>22.000000</td>\n",
       "      <td>26.900000</td>\n",
       "    </tr>\n",
       "    <tr>\n",
       "      <th>max</th>\n",
       "      <td>33.900000</td>\n",
       "      <td>48.100000</td>\n",
       "      <td>367.600000</td>\n",
       "      <td>135.000000</td>\n",
       "      <td>87.000000</td>\n",
       "      <td>87.000000</td>\n",
       "      <td>100.000000</td>\n",
       "      <td>100.000000</td>\n",
       "      <td>1041.000000</td>\n",
       "      <td>1039.600000</td>\n",
       "      <td>40.200000</td>\n",
       "      <td>46.700000</td>\n",
       "    </tr>\n",
       "  </tbody>\n",
       "</table>\n",
       "</div>"
      ],
      "text/plain": [
       "             MinTemp        MaxTemp       Rainfall  WindGustSpeed  \\\n",
       "count  112925.000000  112925.000000  112925.000000  112925.000000   \n",
       "mean       12.664721      23.655670       2.377892      40.786611   \n",
       "std         6.254135       6.982702       8.602968      13.321774   \n",
       "min        -8.200000       2.600000       0.000000       7.000000   \n",
       "25%         8.100000      18.300000       0.000000      31.000000   \n",
       "50%        12.400000      23.100000       0.000000      39.000000   \n",
       "75%        17.200000      28.700000       0.800000      48.000000   \n",
       "max        33.900000      48.100000     367.600000     135.000000   \n",
       "\n",
       "        WindSpeed9am   WindSpeed3pm    Humidity9am    Humidity3pm  \\\n",
       "count  112925.000000  112925.000000  112925.000000  112925.000000   \n",
       "mean       15.179163      19.500545      67.404162      50.669055   \n",
       "std         8.344304       8.580097      18.911610      20.768550   \n",
       "min         2.000000       2.000000       0.000000       0.000000   \n",
       "25%         9.000000      13.000000      56.000000      36.000000   \n",
       "50%        13.000000      19.000000      68.000000      51.000000   \n",
       "75%        20.000000      24.000000      81.000000      65.000000   \n",
       "max        87.000000      87.000000     100.000000     100.000000   \n",
       "\n",
       "         Pressure9am    Pressure3pm        Temp9am        Temp3pm  \n",
       "count  112925.000000  112925.000000  112925.000000  112925.000000  \n",
       "mean     1017.425847    1015.048962      17.462008      22.127306  \n",
       "std         7.032654       6.957822       6.355045       6.837380  \n",
       "min       980.500000     977.100000      -3.100000       1.700000  \n",
       "25%      1012.800000    1010.300000      12.700000      16.900000  \n",
       "50%      1017.400000    1015.000000      17.100000      21.600000  \n",
       "75%      1022.100000    1019.700000      22.000000      26.900000  \n",
       "max      1041.000000    1039.600000      40.200000      46.700000  "
      ]
     },
     "execution_count": 7,
     "metadata": {},
     "output_type": "execute_result"
    }
   ],
   "source": [
    "numeric_df = data_frame.select_dtypes(\"number\")\n",
    "numeric_df.describe()"
   ]
  },
  {
   "cell_type": "markdown",
   "metadata": {},
   "source": [
    "### Outliers"
   ]
  },
  {
   "cell_type": "code",
   "execution_count": 8,
   "metadata": {},
   "outputs": [
    {
     "data": {
      "text/plain": [
       "<AxesSubplot:>"
      ]
     },
     "execution_count": 8,
     "metadata": {},
     "output_type": "execute_result"
    },
    {
     "data": {
      "image/png": "[encoded data removed]",
      "text/plain": [
       "<Figure size 432x288 with 1 Axes>"
      ]
     },
     "metadata": {
      "needs_background": "light"
     },
     "output_type": "display_data"
    }
   ],
   "source": [
    "numeric_df.boxplot([col for col in data_frame if \"Temp\" in col])"
   ]
  },
  {
   "cell_type": "code",
   "execution_count": 9,
   "metadata": {},
   "outputs": [
    {
     "data": {
      "text/plain": [
       "<AxesSubplot:>"
      ]
     },
     "execution_count": 9,
     "metadata": {},
     "output_type": "execute_result"
    },
    {
     "data": {
      "image/png": "[encoded data removed]",
      "text/plain": [
       "<Figure size 432x288 with 1 Axes>"
      ]
     },
     "metadata": {
      "needs_background": "light"
     },
     "output_type": "display_data"
    }
   ],
   "source": [
    "numeric_df.boxplot([col for col in data_frame if \"Pressure\" in col])"
   ]
  },
  {
   "cell_type": "code",
   "execution_count": 10,
   "metadata": {},
   "outputs": [
    {
     "data": {
      "text/plain": [
       "<AxesSubplot:>"
      ]
     },
     "execution_count": 10,
     "metadata": {},
     "output_type": "execute_result"
    },
    {
     "data": {
      "image/png": "[encoded data removed]",
      "text/plain": [
       "<Figure size 432x288 with 1 Axes>"
      ]
     },
     "metadata": {
      "needs_background": "light"
     },
     "output_type": "display_data"
    }
   ],
   "source": [
    "numeric_df.boxplot([col for col in data_frame if \"Humidity\" in col])"
   ]
  },
  {
   "cell_type": "code",
   "execution_count": 11,
   "metadata": {},
   "outputs": [
    {
     "data": {
      "text/plain": [
       "<AxesSubplot:>"
      ]
     },
     "execution_count": 11,
     "metadata": {},
     "output_type": "execute_result"
    },
    {
     "data": {
      "image/png": "[encoded data removed]",
      "text/plain": [
       "<Figure size 432x288 with 1 Axes>"
      ]
     },
     "metadata": {
      "needs_background": "light"
     },
     "output_type": "display_data"
    }
   ],
   "source": [
    "numeric_df.boxplot([col for col in data_frame if \"Speed\" in col])"
   ]
  },
  {
   "cell_type": "code",
   "execution_count": 12,
   "metadata": {},
   "outputs": [
    {
     "data": {
      "text/plain": [
       "<AxesSubplot:>"
      ]
     },
     "execution_count": 12,
     "metadata": {},
     "output_type": "execute_result"
    },
    {
     "data": {
      "image/png": "[encoded data removed]",
      "text/plain": [
       "<Figure size 432x288 with 1 Axes>"
      ]
     },
     "metadata": {
      "needs_background": "light"
     },
     "output_type": "display_data"
    }
   ],
   "source": [
    "numeric_df.boxplot([col for col in data_frame if \"Rainfall\" in col])"
   ]
  },
  {
   "cell_type": "markdown",
   "metadata": {},
   "source": [
    "Apa. A ver qué pasó acá. Viendo la tabla anterior, noto que hay muchos 0 (muchos días que no llueve). De hecho Q3 vale menos que 1, que para este problema es no llover. Eliminar o reemplazar los outliers sería ignorar todos los días que llovió, me parece una pésima idea. Voy a dejar los outliers de `Rainfall` como están.\n",
    "\n",
    "Vimos que todas las demás variables también tienen outliers (pero más razonables). Como quiero normalizar los datos luego, me voy a deshacer de esos valores. Al no tener conocimientos meteorológicos, me voy a contentar con forzar límites superior e inferior como 2 veces la distancia intercuartil (entre los cuartiles 1 y 3) para cada variable."
   ]
  },
  {
   "cell_type": "code",
   "execution_count": 13,
   "metadata": {},
   "outputs": [],
   "source": [
    "# Prevent a false positive warning.\n",
    "pd.options.mode.chained_assignment = None\n",
    "\n",
    "for col in numeric_df.drop(columns=\"Rainfall\"):\n",
    "    Q3 = np.quantile(numeric_df[col], 0.75)\n",
    "    Q1 = np.quantile(numeric_df[col], 0.25)\n",
    "    IQR = Q3 - Q1\n",
    "    lower = Q1 - 1.5 * IQR\n",
    "    upper = Q3 + 1.5 * IQR\n",
    "    numeric_df[col].clip(lower=lower, upper=upper, inplace=True)\n",
    "\n",
    "pd.options.mode.chained_assignment = \"warn\""
   ]
  },
  {
   "cell_type": "markdown",
   "metadata": {},
   "source": [
    "### Normalización\n",
    "Dejamos a cada feature con media 0 y varianza 1."
   ]
  },
  {
   "cell_type": "code",
   "execution_count": 14,
   "metadata": {},
   "outputs": [],
   "source": [
    "from sklearn.preprocessing import StandardScaler\n",
    "\n",
    "scaler = StandardScaler()\n",
    "features = pd.DataFrame(\n",
    "    scaler.fit_transform(numeric_df), columns=numeric_df.columns, index=numeric_df.index\n",
    ")"
   ]
  },
  {
   "cell_type": "markdown",
   "metadata": {},
   "source": [
    "## Variables categóricas"
   ]
  },
  {
   "cell_type": "code",
   "execution_count": 15,
   "metadata": {},
   "outputs": [
    {
     "data": {
      "text/html": [
       "<div>\n",
       "<style scoped>\n",
       "    .dataframe tbody tr th:only-of-type {\n",
       "        vertical-align: middle;\n",
       "    }\n",
       "\n",
       "    .dataframe tbody tr th {\n",
       "        vertical-align: top;\n",
       "    }\n",
       "\n",
       "    .dataframe thead th {\n",
       "        text-align: right;\n",
       "    }\n",
       "</style>\n",
       "<table border=\"1\" class=\"dataframe\">\n",
       "  <thead>\n",
       "    <tr style=\"text-align: right;\">\n",
       "      <th></th>\n",
       "      <th>Date</th>\n",
       "      <th>Location</th>\n",
       "      <th>WindGustDir</th>\n",
       "      <th>WindDir9am</th>\n",
       "      <th>WindDir3pm</th>\n",
       "      <th>RainTomorrow</th>\n",
       "    </tr>\n",
       "  </thead>\n",
       "  <tbody>\n",
       "    <tr>\n",
       "      <th>0</th>\n",
       "      <td>2008-12-01</td>\n",
       "      <td>Albury</td>\n",
       "      <td>W</td>\n",
       "      <td>W</td>\n",
       "      <td>WNW</td>\n",
       "      <td>No</td>\n",
       "    </tr>\n",
       "    <tr>\n",
       "      <th>1</th>\n",
       "      <td>2008-12-02</td>\n",
       "      <td>Albury</td>\n",
       "      <td>WNW</td>\n",
       "      <td>NNW</td>\n",
       "      <td>WSW</td>\n",
       "      <td>No</td>\n",
       "    </tr>\n",
       "    <tr>\n",
       "      <th>2</th>\n",
       "      <td>2008-12-03</td>\n",
       "      <td>Albury</td>\n",
       "      <td>WSW</td>\n",
       "      <td>W</td>\n",
       "      <td>WSW</td>\n",
       "      <td>No</td>\n",
       "    </tr>\n",
       "    <tr>\n",
       "      <th>3</th>\n",
       "      <td>2008-12-04</td>\n",
       "      <td>Albury</td>\n",
       "      <td>NE</td>\n",
       "      <td>SE</td>\n",
       "      <td>E</td>\n",
       "      <td>No</td>\n",
       "    </tr>\n",
       "    <tr>\n",
       "      <th>4</th>\n",
       "      <td>2008-12-05</td>\n",
       "      <td>Albury</td>\n",
       "      <td>W</td>\n",
       "      <td>ENE</td>\n",
       "      <td>NW</td>\n",
       "      <td>No</td>\n",
       "    </tr>\n",
       "    <tr>\n",
       "      <th>...</th>\n",
       "      <td>...</td>\n",
       "      <td>...</td>\n",
       "      <td>...</td>\n",
       "      <td>...</td>\n",
       "      <td>...</td>\n",
       "      <td>...</td>\n",
       "    </tr>\n",
       "    <tr>\n",
       "      <th>145454</th>\n",
       "      <td>2017-06-20</td>\n",
       "      <td>Uluru</td>\n",
       "      <td>E</td>\n",
       "      <td>ESE</td>\n",
       "      <td>E</td>\n",
       "      <td>No</td>\n",
       "    </tr>\n",
       "    <tr>\n",
       "      <th>145455</th>\n",
       "      <td>2017-06-21</td>\n",
       "      <td>Uluru</td>\n",
       "      <td>E</td>\n",
       "      <td>SE</td>\n",
       "      <td>ENE</td>\n",
       "      <td>No</td>\n",
       "    </tr>\n",
       "    <tr>\n",
       "      <th>145456</th>\n",
       "      <td>2017-06-22</td>\n",
       "      <td>Uluru</td>\n",
       "      <td>NNW</td>\n",
       "      <td>SE</td>\n",
       "      <td>N</td>\n",
       "      <td>No</td>\n",
       "    </tr>\n",
       "    <tr>\n",
       "      <th>145457</th>\n",
       "      <td>2017-06-23</td>\n",
       "      <td>Uluru</td>\n",
       "      <td>N</td>\n",
       "      <td>SE</td>\n",
       "      <td>WNW</td>\n",
       "      <td>No</td>\n",
       "    </tr>\n",
       "    <tr>\n",
       "      <th>145458</th>\n",
       "      <td>2017-06-24</td>\n",
       "      <td>Uluru</td>\n",
       "      <td>SE</td>\n",
       "      <td>SSE</td>\n",
       "      <td>N</td>\n",
       "      <td>No</td>\n",
       "    </tr>\n",
       "  </tbody>\n",
       "</table>\n",
       "<p>112925 rows × 6 columns</p>\n",
       "</div>"
      ],
      "text/plain": [
       "              Date Location WindGustDir WindDir9am WindDir3pm RainTomorrow\n",
       "0       2008-12-01   Albury           W          W        WNW           No\n",
       "1       2008-12-02   Albury         WNW        NNW        WSW           No\n",
       "2       2008-12-03   Albury         WSW          W        WSW           No\n",
       "3       2008-12-04   Albury          NE         SE          E           No\n",
       "4       2008-12-05   Albury           W        ENE         NW           No\n",
       "...            ...      ...         ...        ...        ...          ...\n",
       "145454  2017-06-20    Uluru           E        ESE          E           No\n",
       "145455  2017-06-21    Uluru           E         SE        ENE           No\n",
       "145456  2017-06-22    Uluru         NNW         SE          N           No\n",
       "145457  2017-06-23    Uluru           N         SE        WNW           No\n",
       "145458  2017-06-24    Uluru          SE        SSE          N           No\n",
       "\n",
       "[112925 rows x 6 columns]"
      ]
     },
     "execution_count": 15,
     "metadata": {},
     "output_type": "execute_result"
    }
   ],
   "source": [
    "data_frame.select_dtypes(\"object\")"
   ]
  },
  {
   "cell_type": "markdown",
   "metadata": {},
   "source": [
    "### `Date`\n",
    "Primero pasemos las fechas a `DateTime`. Luego voy a pecar un poco. Me importan dos cosas:\n",
    "* Preservar distancias entre fechas de calendario (sin importar el año). Porque imagino que si todos los 31 de diciembre son muy calurosos, los 1 de enero también. Para esto uso el trucazo que mostraste para variables cíclicas (con la chanchada de considerar 366 días así no pienso en años bisiestos). Tiene el problema de que el análisis univariado me va a dar cualquier cosa.\n",
    "* Considerar los años (por si cada año llueve menos, por ejemplo). Para esto simplemente separo el año."
   ]
  },
  {
   "cell_type": "code",
   "execution_count": 16,
   "metadata": {},
   "outputs": [],
   "source": [
    "data_frame[\"Date\"] = pd.to_datetime(data_frame[\"Date\"])\n",
    "data_frame[\"Year\"] = data_frame[\"Date\"].dt.year\n",
    "norm_date = 2 * np.pi * (data_frame[\"Date\"].dt.dayofyear) / 366\n",
    "features[\"SinDate\"] = np.sin(norm_date)\n",
    "features[\"CosDate\"] = np.cos(norm_date)"
   ]
  },
  {
   "cell_type": "markdown",
   "metadata": {},
   "source": [
    "### Direcciones\n",
    "Para las direcciones de viento, primero numero cada dirección empezando por N (que es 0) y continuando en sentido horario según:\n",
    "\n",
    "<img src=\"compass.pbm\" alt=\"compass\" width=\"400\"/>\n",
    "\n",
    "Y luego, como es cícilico, le aplico la misma transformación que a la fecha."
   ]
  },
  {
   "cell_type": "code",
   "execution_count": 17,
   "metadata": {},
   "outputs": [],
   "source": [
    "directions = [\n",
    "    \"N\",\n",
    "    \"NNE\",\n",
    "    \"NE\",\n",
    "    \"ENE\",\n",
    "    \"E\",\n",
    "    \"ESE\",\n",
    "    \"SE\",\n",
    "    \"SSE\",\n",
    "    \"S\",\n",
    "    \"SSW\",\n",
    "    \"SW\",\n",
    "    \"WSW\",\n",
    "    \"W\",\n",
    "    \"WNW\",\n",
    "    \"NW\",\n",
    "    \"NNW\",\n",
    "]\n",
    "dir_dict = dict(\n",
    "    [(dir, (2 * np.pi * i) / len(directions)) for i, dir in enumerate(directions)]\n",
    ")\n",
    "for col in [\"WindGustDir\", \"WindDir9am\", \"WindDir3pm\"]:\n",
    "    norm_wind = data_frame[col].replace(dir_dict)\n",
    "    features[f\"Sin{col}\"] = np.sin(norm_wind)\n",
    "    features[f\"Cos{col}\"] = np.cos(norm_wind)"
   ]
  },
  {
   "cell_type": "markdown",
   "metadata": {},
   "source": [
    "### `RainTomorrow`\n",
    "Es binaria, así que la convierto a 0 y 1 para `\"No\"` y `\"Yes\"` respectivamente. Al ser la *target variable*, la asigno a un dataframe aparte."
   ]
  },
  {
   "cell_type": "code",
   "execution_count": 18,
   "metadata": {},
   "outputs": [],
   "source": [
    "target = data_frame[\"RainTomorrow\"].eq(\"Yes\").mul(1)"
   ]
  },
  {
   "cell_type": "markdown",
   "metadata": {},
   "source": [
    "### `Location`\n",
    "Veamos si son a lo sumo 20 (así según tu *rule of thumb* hago one hot encoding tranquilo)..."
   ]
  },
  {
   "cell_type": "code",
   "execution_count": 19,
   "metadata": {},
   "outputs": [
    {
     "data": {
      "text/plain": [
       "44"
      ]
     },
     "execution_count": 19,
     "metadata": {},
     "output_type": "execute_result"
    }
   ],
   "source": [
    "len(data_frame[\"Location\"].unique())"
   ]
  },
  {
   "cell_type": "markdown",
   "metadata": {},
   "source": [
    "... no. Veamos si puedo deshacerme de alguna etiqueta (por tener pocos valores)..."
   ]
  },
  {
   "cell_type": "code",
   "execution_count": 20,
   "metadata": {},
   "outputs": [
    {
     "data": {
      "text/plain": [
       "Tuggeranong    2316\n",
       "Dartmoor       2294\n",
       "Sydney         2259\n",
       "Melbourne      2233\n",
       "Williamtown    2195\n",
       "Richmond       2048\n",
       "Launceston     1538\n",
       "Nhil           1518\n",
       "Uluru          1446\n",
       "Katherine       670\n",
       "Name: Location, dtype: int64"
      ]
     },
     "execution_count": 20,
     "metadata": {},
     "output_type": "execute_result"
    }
   ],
   "source": [
    "data_frame[\"Location\"].value_counts()[-10:]"
   ]
  },
  {
   "cell_type": "markdown",
   "metadata": {},
   "source": [
    "... tampoco. Por ahora descarto esta variable. Sería posible usar regiones en vez de ubicaciones (y después tirar one hot encoding), pero son 44 y no quiero hacer el pasaje a mano. Tampoco sé si se corresponden con diferentes climas:\n",
    "\n",
    "<img src=\"australia_regions.jpg\" alt=\"regions\" width=\"400\"/>"
   ]
  },
  {
   "cell_type": "markdown",
   "metadata": {},
   "source": [
    "## Falsos predictores\n",
    "No veo que sea necesario un análisis con árbol de decisión, pues no veo variables correlacionadas con el target."
   ]
  },
  {
   "cell_type": "markdown",
   "metadata": {},
   "source": [
    "## Balanceo de clases"
   ]
  },
  {
   "cell_type": "code",
   "execution_count": 21,
   "metadata": {},
   "outputs": [
    {
     "data": {
      "text/plain": [
       "0    0.778446\n",
       "1    0.221554\n",
       "Name: RainTomorrow, dtype: float64"
      ]
     },
     "execution_count": 21,
     "metadata": {},
     "output_type": "execute_result"
    }
   ],
   "source": [
    "target.value_counts() / len(data_frame)"
   ]
  },
  {
   "cell_type": "markdown",
   "metadata": {},
   "source": [
    "Si bien las clases están desbalanceadas, no lo están en en el orden de magnitud de tus ejemplos donde vale la pena hacer sub- u oversampling."
   ]
  },
  {
   "cell_type": "markdown",
   "metadata": {},
   "source": [
    "# Análisis de variables relevantes"
   ]
  },
  {
   "cell_type": "markdown",
   "metadata": {},
   "source": [
    "## Análisis univariado\n",
    "Vamos a tirar un filtro con [SelectKBest](https://scikit-learn.org/stable/modules/generated/sklearn.feature_selection.SelectKBest.html#sklearn.feature_selection.SelectKBest) como primer approach a ver qué pasa. Quito las transformaciones de variables categóricas cíclicas pues no tiene sentido analizarlas de a una."
   ]
  },
  {
   "cell_type": "code",
   "execution_count": 22,
   "metadata": {},
   "outputs": [
    {
     "data": {
      "image/png": "[encoded data removed]",
      "text/plain": [
       "<Figure size 432x288 with 1 Axes>"
      ]
     },
     "metadata": {
      "needs_background": "light"
     },
     "output_type": "display_data"
    }
   ],
   "source": [
    "from sklearn.feature_selection import SelectKBest\n",
    "\n",
    "univ_df = features.drop(\n",
    "    columns=[col for col in features if col.startswith((\"Sin\", \"Cos\"))]\n",
    ")\n",
    "selector = SelectKBest(k=\"all\")  # ANOVA by default.\n",
    "selector.fit(univ_df, target)\n",
    "univ_scores = sorted(list(zip(selector.scores_, univ_df.columns)))\n",
    "plt.bar([x[1] for x in univ_scores], [x[0] for x in univ_scores])\n",
    "plt.xticks(rotation=90)\n",
    "plt.show()"
   ]
  },
  {
   "cell_type": "markdown",
   "metadata": {},
   "source": [
    "En base a este gráfico decido descartar las peores 4 variables, es decir, me quedo con las 8 mejores:"
   ]
  },
  {
   "cell_type": "code",
   "execution_count": 23,
   "metadata": {},
   "outputs": [],
   "source": [
    "selector = SelectKBest(k=8)\n",
    "selector.fit(univ_df, target)\n",
    "selected_cols = selector.get_support(indices=True)\n",
    "filtered_df = univ_df.iloc[:, selected_cols]"
   ]
  },
  {
   "cell_type": "markdown",
   "metadata": {},
   "source": [
    "Y recupero las columnas de las variables cíclicas."
   ]
  },
  {
   "cell_type": "code",
   "execution_count": 24,
   "metadata": {},
   "outputs": [
    {
     "data": {
      "text/plain": [
       "Index(['MaxTemp', 'Rainfall', 'WindGustSpeed', 'Humidity9am', 'Humidity3pm',\n",
       "       'Pressure9am', 'Pressure3pm', 'Temp3pm', 'SinDate', 'CosDate',\n",
       "       'SinWindGustDir', 'CosWindGustDir', 'SinWindDir9am', 'CosWindDir9am',\n",
       "       'SinWindDir3pm', 'CosWindDir3pm'],\n",
       "      dtype='object')"
      ]
     },
     "execution_count": 24,
     "metadata": {},
     "output_type": "execute_result"
    }
   ],
   "source": [
    "for col in [col for col in features if col.startswith((\"Sin\", \"Cos\"))]:\n",
    "    filtered_df = filtered_df.join(features[col])\n",
    "filtered_df.columns"
   ]
  },
  {
   "cell_type": "markdown",
   "metadata": {},
   "source": [
    "## Análisis multivariado\n",
    "Vamos a usar [RFECV](https://scikit-learn.org/stable/modules/generated/sklearn.feature_selection.RFECV.html#sklearn.feature_selection.RFECV) con [Random Forest](https://scikit-learn.org/stable/modules/generated/sklearn.ensemble.RandomForestClassifier.html) como clasificador para el análisis multivariado. Elegí RF porque es lo que mejor funcionó \"out of the box\" en los trabajos anteriores. RFECV hace RFE con cross validation para elegir la cantidad de variables a retener, en este caso 5-fold. Con [StratifiedKFold](https://scikit-learn.org/stable/modules/generated/sklearn.model_selection.StratifiedKFold.html) me aseguro que los folds que respeten la proporción de clases."
   ]
  },
  {
   "cell_type": "code",
   "execution_count": 32,
   "metadata": {},
   "outputs": [
    {
     "name": "stdout",
     "output_type": "stream",
     "text": [
      "Optimal number of features : 16\n"
     ]
    }
   ],
   "source": [
    "from sklearn.ensemble import RandomForestClassifier\n",
    "from sklearn.feature_selection import RFECV\n",
    "from sklearn.model_selection import StratifiedKFold\n",
    "\n",
    "estimator = RandomForestClassifier()\n",
    "min_features = 10\n",
    "selector = RFECV(estimator, cv=StratifiedKFold(5), step = 1, min_features_to_select=min_features)\n",
    "\n",
    "\n",
    "selector.fit(filtered_df, target)\n",
    "print(f\"Optimal number of features : {selector.n_features_}\")"
   ]
  },
  {
   "cell_type": "markdown",
   "metadata": {},
   "source": [
    "Bueno, parece que hay que usar todas las variables. Dejo los datos como están."
   ]
  },
  {
   "cell_type": "markdown",
   "metadata": {},
   "source": [
    "# Clustering"
   ]
  },
  {
   "cell_type": "markdown",
   "metadata": {},
   "source": [
    "## PCA\n",
    "Vamos a hacer un PCA (los datos ya están escalados) para ver si encontramos clusters."
   ]
  },
  {
   "cell_type": "code",
   "execution_count": 26,
   "metadata": {},
   "outputs": [],
   "source": [
    "from sklearn.decomposition import PCA\n",
    "\n",
    "pca = PCA().fit_transform(filtered_df)\n",
    "pca_data_frame = pd.DataFrame(\n",
    "    data=pca,\n",
    "    columns=[f\"pc_{idx}\" for idx in range(1, pca.shape[1] + 1)],\n",
    "    index=filtered_df.index,\n",
    ")"
   ]
  },
  {
   "cell_type": "markdown",
   "metadata": {},
   "source": [
    "Graficamos las primeras dos componentes del PCA:"
   ]
  },
  {
   "cell_type": "code",
   "execution_count": 27,
   "metadata": {},
   "outputs": [],
   "source": [
    "import matplotlib.colors as mcolors\n",
    "\n",
    "\n",
    "def graph_clusters(data_frame, klass_list, x_label, y_label, target_label):\n",
    "    color_list = list(mcolors.TABLEAU_COLORS.keys())\n",
    "    for klass, color in zip(klass_list, color_list):\n",
    "        idx_list = data_frame[target_label] == klass\n",
    "        plt.scatter(\n",
    "            data_frame.loc[idx_list, x_label],\n",
    "            data_frame.loc[idx_list, y_label],\n",
    "            marker=\".\",\n",
    "            color=color,\n",
    "        )\n",
    "        plt.xlabel(x_label)\n",
    "        plt.ylabel(y_label)\n",
    "        plt.legend(klass_list)\n",
    "    plt.show()"
   ]
  },
  {
   "cell_type": "code",
   "execution_count": 28,
   "metadata": {},
   "outputs": [
    {
     "data": {
      "image/png": "[encoded data removed]",
      "text/plain": [
       "<Figure size 432x288 with 1 Axes>"
      ]
     },
     "metadata": {
      "needs_background": "light"
     },
     "output_type": "display_data"
    }
   ],
   "source": [
    "pca_target_df = pca_data_frame.join(target)\n",
    "klass_list = pca_target_df[\"RainTomorrow\"].unique()\n",
    "x_label = \"pc_1\"\n",
    "y_label = \"pc_2\"\n",
    "\n",
    "graph_clusters(pca_target_df, klass_list, x_label, y_label, \"RainTomorrow\")"
   ]
  },
  {
   "cell_type": "markdown",
   "metadata": {},
   "source": [
    "No se entiende nada. Pero ya que estamos en el baile, bailemos."
   ]
  },
  {
   "cell_type": "markdown",
   "metadata": {},
   "source": [
    "## Búsqueda de clusters\n",
    "A ojímetro por el gráfico anterior, le tengo más fe a [AgglomerativeClustering](https://scikit-learn.org/stable/modules/generated/sklearn.cluster.AgglomerativeClustering.html?highlight=agglomerative#sklearn.cluster.AgglomerativeClustering) que a K-Means... aunque no le tengo fe a ninguno. Pero me dio Memory Error. Así que vamos con [KMeans](https://scikit-learn.org/stable/modules/generated/sklearn.cluster.KMeans.html?highlight=kmeans#sklearn.cluster.KMeans)."
   ]
  },
  {
   "cell_type": "code",
   "execution_count": 29,
   "metadata": {},
   "outputs": [
    {
     "name": "stdout",
     "output_type": "stream",
     "text": [
      "K-Means score: 0.7784458711534205\n"
     ]
    },
    {
     "data": {
      "image/png": "[encoded data removed]",
      "text/plain": [
       "<Figure size 432x288 with 1 Axes>"
      ]
     },
     "metadata": {
      "needs_background": "light"
     },
     "output_type": "display_data"
    }
   ],
   "source": [
    "from sklearn.metrics.cluster import contingency_matrix\n",
    "from sklearn.cluster import KMeans\n",
    "\n",
    "# https://stackoverflow.com/questions/34047540/python-clustering-purity-metric\n",
    "def purity_score(y_true, y_pred):\n",
    "    # compute contingency matrix (also called confusion matrix)\n",
    "    cont_matrix = contingency_matrix(y_true, y_pred)\n",
    "    # return purity\n",
    "    return np.sum(np.amax(cont_matrix, axis=0)) / np.sum(cont_matrix)\n",
    "\n",
    "\n",
    "n_clusters = 2\n",
    "method = KMeans(n_clusters=n_clusters)\n",
    "prediction = method.fit_predict(pca_data_frame)\n",
    "print(f\"K-Means score: {purity_score(target, prediction)}\")\n",
    "\n",
    "pca_target_df[\"prediction\"] = prediction\n",
    "graph_clusters(pca_target_df, klass_list, x_label, y_label, \"prediction\")"
   ]
  },
  {
   "cell_type": "markdown",
   "metadata": {},
   "source": [
    "Da sorprendentemente bien (a pesar de que gráficamente parece cualquier cosa). Wow. Esperaba un score cercano a `0.5`. Quizás `pc_1` y `pc_2` no son representativos de todas las dimensiones (ya que hay 16 dimensiones)."
   ]
  },
  {
   "cell_type": "markdown",
   "metadata": {},
   "source": [
    "## Cantidad de clusters\n",
    "Vamos a usar Gap Statistic para ver si la cantidad \"ideal\" de clusters es 2. Esto es un copypaste levemente modificado del TP de clustering (en realidad gran parte de este informe es copypaste de TPs anteriores). Pruebo cantidades de clusters en el rango `[1, 10]` y genero 20 distribuciones uniformes en el PCA de los datos para cada cantidad de clusters:"
   ]
  },
  {
   "cell_type": "code",
   "execution_count": 36,
   "metadata": {},
   "outputs": [
    {
     "name": "stdout",
     "output_type": "stream",
     "text": [
      "cluster size: 1\n"
     ]
    },
    {
     "data": {
      "image/png": "[encoded data removed]",
      "text/plain": [
       "<Figure size 432x288 with 1 Axes>"
      ]
     },
     "metadata": {
      "needs_background": "light"
     },
     "output_type": "display_data"
    }
   ],
   "source": [
    "max_clusters = 10\n",
    "uniform_count = 20\n",
    "method = KMeans\n",
    "\n",
    "# Generates a uniform distribution with the same amount of\n",
    "# data points in the hyperrectangle of the source data frame.\n",
    "def generate_uniform(source_data):\n",
    "    uniform_data = source_data.copy().transpose()\n",
    "    # Iterate over the columns (features) of the original matrix.\n",
    "    for idx, row in enumerate(uniform_data):\n",
    "        uniform_data[idx] = np.random.uniform(row.min(), row.max(), len(row))\n",
    "    return uniform_data.transpose()\n",
    "\n",
    "\n",
    "# Calculate log inertia for different cluster amounts.\n",
    "data_inertia = [\n",
    "    np.log(method(n_clusters=n_clusters).fit(pca_data_frame).inertia_)\n",
    "    for n_clusters in range(1, max_clusters + 1)\n",
    "]\n",
    "\n",
    "# Apply PCA.\n",
    "pca = PCA().fit_transform(pca_data_frame)\n",
    "\n",
    "# Calculate log inertia for uniform distributions.\n",
    "uniform_inertia = np.zeros((max_clusters, uniform_count))\n",
    "for cluster_idx in range(max_clusters):\n",
    "    for iteration in range(uniform_count):\n",
    "        uniform_data_frame = generate_uniform(pca)\n",
    "        uniform_inertia[cluster_idx][iteration] = np.log(\n",
    "            method(n_clusters=cluster_idx + 1).fit(uniform_data_frame).inertia_\n",
    "        )\n",
    "\n",
    "# Calculate mean and gap statistic.\n",
    "uniform_inertia_mean = np.mean(uniform_inertia, axis=1)\n",
    "gap = uniform_inertia_mean - data_inertia\n",
    "\n",
    "# Calculate standard deviation and adjusted standard deviation.\n",
    "uniform_inertia_sd = np.zeros(max_clusters)\n",
    "for cluster_idx in range(max_clusters):\n",
    "    uniform_inertia_sd[cluster_idx] = np.sqrt(\n",
    "        np.mean(\n",
    "            np.square(uniform_inertia[cluster_idx] - uniform_inertia_mean[cluster_idx])\n",
    "        )\n",
    "    )\n",
    "uniform_inertia_s = uniform_inertia_sd * np.sqrt(1 + 1 / uniform_count)\n",
    "\n",
    "# Graph gap statistic.\n",
    "plt.errorbar(np.arange(max_clusters) + 1, gap, uniform_inertia_s, color=\"k\")\n",
    "plt.xlabel(\"number of clusters\")\n",
    "plt.ylabel(\"gap\")\n",
    "\n",
    "# Use gap statistic to select cluster size.\n",
    "cluster_size = max_clusters\n",
    "for k in range(1, max_clusters):\n",
    "    if gap[k - 1] >= gap[k] - uniform_inertia_s[k]:\n",
    "        # This is because gap[k] is the gap statistic for k+1 clusters.\n",
    "        cluster_size = k\n",
    "        break\n",
    "print(f\"cluster size: {cluster_size}\")\n",
    "plt.show()"
   ]
  },
  {
   "cell_type": "markdown",
   "metadata": {},
   "source": [
    "Dice claramente que no hay clusters, cosa que me creo por la forma horrible de las gráficas anteriores."
   ]
  },
  {
   "cell_type": "markdown",
   "metadata": {},
   "source": [
    "# Clasificación"
   ]
  },
  {
   "cell_type": "markdown",
   "metadata": {},
   "source": [
    "## Metodología\n",
    "Vamos con el viejo y querido método de hacer CV para estimar el error (y recursivamente CV para encontrar parámetros óptimos):\n",
    "1. Separo 1/5 de los datos como conjunto de validación, el resto como training usando [`StratifiedKFold` de scikit](https://scikit-learn.org/stable/modules/generated/sklearn.model_selection.StratifiedKFold.html#sklearn.model_selection.StratifiedKFold) para mantener las proporciones de las clases en los folds.\n",
    "2. Sobre los datos de training vuelvo a hacer 5-fold cross validation para elegir parámetros óptimos utilizando [`GridSearchCV` de scikit](https://scikit-learn.org/stable/modules/generated/sklearn.model_selection.GridSearchCV.html#sklearn.model_selection.GridSearchCV).\n",
    "3. Entreno el modelo usando todos los datos de training (usando los parámetros óptimos) y obtengo su error de clasificación sobre el conjunto de validación.\n",
    "4. Repito los pasos 1 a 3 para cada fold y promedio los errores de clasificación. El promedio es mi error estimado de test."
   ]
  },
  {
   "cell_type": "code",
   "execution_count": 33,
   "metadata": {},
   "outputs": [],
   "source": [
    "from sklearn.model_selection import GridSearchCV\n",
    "\n",
    "def err_estimator(features, target, estimator, n_splits, param_grid):\n",
    "    estimated_err = 0\n",
    "    k_fold = StratifiedKFold(n_splits, shuffle=True)\n",
    "    for train_index, val_index in k_fold.split(features, target):\n",
    "        random_forest = GridSearchCV(estimator, param_grid)\n",
    "        random_forest.fit(features.iloc[train_index], target.iloc[train_index])\n",
    "        val_score = random_forest.score(features.iloc[val_index], target.iloc[val_index])\n",
    "        estimated_err += 1 - val_score\n",
    "        print(\n",
    "            f\"Validation error: {1 - val_score} with params: {random_forest.best_params_}\"\n",
    "        )\n",
    "    estimated_err /= k_fold.get_n_splits()\n",
    "    \n",
    "    print(f\"Estimated test error: {estimated_err}\")"
   ]
  },
  {
   "cell_type": "markdown",
   "metadata": {},
   "source": [
    "## Random Forest\n",
    "Copy paste del TP anterior: \"el número de árboles no es importante, mientras sean muchos\", por lo que el único parámetro a ajustar es la cantidad de features que se evalúan por nodo. Usé 1000 árboles y busqué el óptimo a ojímetro cerca de la raíz cuadrada de la cantidad de features totales (la raíz es 4)."
   ]
  },
  {
   "cell_type": "code",
   "execution_count": 35,
   "metadata": {},
   "outputs": [
    {
     "ename": "KeyboardInterrupt",
     "evalue": "",
     "output_type": "error",
     "traceback": [
      "\u001b[0;31m---------------------------------------------------------------------------\u001b[0m",
      "\u001b[0;31mKeyboardInterrupt\u001b[0m                         Traceback (most recent call last)",
      "\u001b[1;32m/home/gianni/FCEIA/TMD/TPFinal/Informe.ipynb Cell 67'\u001b[0m in \u001b[0;36m<cell line: 5>\u001b[0;34m()\u001b[0m\n\u001b[1;32m      <a href='vscode-notebook-cell:/home/gianni/FCEIA/TMD/TPFinal/Informe.ipynb#ch0000067?line=1'>2</a>\u001b[0m n_splits \u001b[39m=\u001b[39m \u001b[39m2\u001b[39m\n\u001b[1;32m      <a href='vscode-notebook-cell:/home/gianni/FCEIA/TMD/TPFinal/Informe.ipynb#ch0000067?line=2'>3</a>\u001b[0m param_grid \u001b[39m=\u001b[39m {\u001b[39m\"\u001b[39m\u001b[39mmax_features\u001b[39m\u001b[39m\"\u001b[39m: [\u001b[39m4\u001b[39m]}\u001b[39m#[2, 3, 4, 6, 8]}\u001b[39;00m\n\u001b[0;32m----> <a href='vscode-notebook-cell:/home/gianni/FCEIA/TMD/TPFinal/Informe.ipynb#ch0000067?line=4'>5</a>\u001b[0m err_estimator(filtered_df, target, estimator, n_splits, param_grid)\n",
      "\u001b[1;32m/home/gianni/FCEIA/TMD/TPFinal/Informe.ipynb Cell 65'\u001b[0m in \u001b[0;36merr_estimator\u001b[0;34m(features, target, estimator, n_splits, param_grid)\u001b[0m\n\u001b[1;32m      <a href='vscode-notebook-cell:/home/gianni/FCEIA/TMD/TPFinal/Informe.ipynb#ch0000065?line=5'>6</a>\u001b[0m \u001b[39mfor\u001b[39;00m train_index, val_index \u001b[39min\u001b[39;00m k_fold\u001b[39m.\u001b[39msplit(features, target):\n\u001b[1;32m      <a href='vscode-notebook-cell:/home/gianni/FCEIA/TMD/TPFinal/Informe.ipynb#ch0000065?line=6'>7</a>\u001b[0m     random_forest \u001b[39m=\u001b[39m GridSearchCV(estimator, param_grid)\n\u001b[0;32m----> <a href='vscode-notebook-cell:/home/gianni/FCEIA/TMD/TPFinal/Informe.ipynb#ch0000065?line=7'>8</a>\u001b[0m     random_forest\u001b[39m.\u001b[39;49mfit(features\u001b[39m.\u001b[39;49miloc[train_index], target\u001b[39m.\u001b[39;49miloc[train_index])\n\u001b[1;32m      <a href='vscode-notebook-cell:/home/gianni/FCEIA/TMD/TPFinal/Informe.ipynb#ch0000065?line=8'>9</a>\u001b[0m     val_score \u001b[39m=\u001b[39m random_forest\u001b[39m.\u001b[39mscore(features\u001b[39m.\u001b[39miloc[val_index], target\u001b[39m.\u001b[39miloc[val_index])\n\u001b[1;32m     <a href='vscode-notebook-cell:/home/gianni/FCEIA/TMD/TPFinal/Informe.ipynb#ch0000065?line=9'>10</a>\u001b[0m     estimated_err \u001b[39m+\u001b[39m\u001b[39m=\u001b[39m \u001b[39m1\u001b[39m \u001b[39m-\u001b[39m val_score\n",
      "File \u001b[0;32m~/.virtualenvs/TMD/lib/python3.8/site-packages/sklearn/utils/validation.py:63\u001b[0m, in \u001b[0;36m_deprecate_positional_args.<locals>._inner_deprecate_positional_args.<locals>.inner_f\u001b[0;34m(*args, **kwargs)\u001b[0m\n\u001b[1;32m     <a href='file:///home/gianni/.virtualenvs/TMD/lib/python3.8/site-packages/sklearn/utils/validation.py?line=60'>61</a>\u001b[0m extra_args \u001b[39m=\u001b[39m \u001b[39mlen\u001b[39m(args) \u001b[39m-\u001b[39m \u001b[39mlen\u001b[39m(all_args)\n\u001b[1;32m     <a href='file:///home/gianni/.virtualenvs/TMD/lib/python3.8/site-packages/sklearn/utils/validation.py?line=61'>62</a>\u001b[0m \u001b[39mif\u001b[39;00m extra_args \u001b[39m<\u001b[39m\u001b[39m=\u001b[39m \u001b[39m0\u001b[39m:\n\u001b[0;32m---> <a href='file:///home/gianni/.virtualenvs/TMD/lib/python3.8/site-packages/sklearn/utils/validation.py?line=62'>63</a>\u001b[0m     \u001b[39mreturn\u001b[39;00m f(\u001b[39m*\u001b[39;49margs, \u001b[39m*\u001b[39;49m\u001b[39m*\u001b[39;49mkwargs)\n\u001b[1;32m     <a href='file:///home/gianni/.virtualenvs/TMD/lib/python3.8/site-packages/sklearn/utils/validation.py?line=64'>65</a>\u001b[0m \u001b[39m# extra_args > 0\u001b[39;00m\n\u001b[1;32m     <a href='file:///home/gianni/.virtualenvs/TMD/lib/python3.8/site-packages/sklearn/utils/validation.py?line=65'>66</a>\u001b[0m args_msg \u001b[39m=\u001b[39m [\u001b[39m'\u001b[39m\u001b[39m{}\u001b[39;00m\u001b[39m=\u001b[39m\u001b[39m{}\u001b[39;00m\u001b[39m'\u001b[39m\u001b[39m.\u001b[39mformat(name, arg)\n\u001b[1;32m     <a href='file:///home/gianni/.virtualenvs/TMD/lib/python3.8/site-packages/sklearn/utils/validation.py?line=66'>67</a>\u001b[0m             \u001b[39mfor\u001b[39;00m name, arg \u001b[39min\u001b[39;00m \u001b[39mzip\u001b[39m(kwonly_args[:extra_args],\n\u001b[1;32m     <a href='file:///home/gianni/.virtualenvs/TMD/lib/python3.8/site-packages/sklearn/utils/validation.py?line=67'>68</a>\u001b[0m                                  args[\u001b[39m-\u001b[39mextra_args:])]\n",
      "File \u001b[0;32m~/.virtualenvs/TMD/lib/python3.8/site-packages/sklearn/model_selection/_search.py:841\u001b[0m, in \u001b[0;36mBaseSearchCV.fit\u001b[0;34m(self, X, y, groups, **fit_params)\u001b[0m\n\u001b[1;32m    <a href='file:///home/gianni/.virtualenvs/TMD/lib/python3.8/site-packages/sklearn/model_selection/_search.py?line=834'>835</a>\u001b[0m     results \u001b[39m=\u001b[39m \u001b[39mself\u001b[39m\u001b[39m.\u001b[39m_format_results(\n\u001b[1;32m    <a href='file:///home/gianni/.virtualenvs/TMD/lib/python3.8/site-packages/sklearn/model_selection/_search.py?line=835'>836</a>\u001b[0m         all_candidate_params, n_splits, all_out,\n\u001b[1;32m    <a href='file:///home/gianni/.virtualenvs/TMD/lib/python3.8/site-packages/sklearn/model_selection/_search.py?line=836'>837</a>\u001b[0m         all_more_results)\n\u001b[1;32m    <a href='file:///home/gianni/.virtualenvs/TMD/lib/python3.8/site-packages/sklearn/model_selection/_search.py?line=838'>839</a>\u001b[0m     \u001b[39mreturn\u001b[39;00m results\n\u001b[0;32m--> <a href='file:///home/gianni/.virtualenvs/TMD/lib/python3.8/site-packages/sklearn/model_selection/_search.py?line=840'>841</a>\u001b[0m \u001b[39mself\u001b[39;49m\u001b[39m.\u001b[39;49m_run_search(evaluate_candidates)\n\u001b[1;32m    <a href='file:///home/gianni/.virtualenvs/TMD/lib/python3.8/site-packages/sklearn/model_selection/_search.py?line=842'>843</a>\u001b[0m \u001b[39m# multimetric is determined here because in the case of a callable\u001b[39;00m\n\u001b[1;32m    <a href='file:///home/gianni/.virtualenvs/TMD/lib/python3.8/site-packages/sklearn/model_selection/_search.py?line=843'>844</a>\u001b[0m \u001b[39m# self.scoring the return type is only known after calling\u001b[39;00m\n\u001b[1;32m    <a href='file:///home/gianni/.virtualenvs/TMD/lib/python3.8/site-packages/sklearn/model_selection/_search.py?line=844'>845</a>\u001b[0m first_test_score \u001b[39m=\u001b[39m all_out[\u001b[39m0\u001b[39m][\u001b[39m'\u001b[39m\u001b[39mtest_scores\u001b[39m\u001b[39m'\u001b[39m]\n",
      "File \u001b[0;32m~/.virtualenvs/TMD/lib/python3.8/site-packages/sklearn/model_selection/_search.py:1296\u001b[0m, in \u001b[0;36mGridSearchCV._run_search\u001b[0;34m(self, evaluate_candidates)\u001b[0m\n\u001b[1;32m   <a href='file:///home/gianni/.virtualenvs/TMD/lib/python3.8/site-packages/sklearn/model_selection/_search.py?line=1293'>1294</a>\u001b[0m \u001b[39mdef\u001b[39;00m \u001b[39m_run_search\u001b[39m(\u001b[39mself\u001b[39m, evaluate_candidates):\n\u001b[1;32m   <a href='file:///home/gianni/.virtualenvs/TMD/lib/python3.8/site-packages/sklearn/model_selection/_search.py?line=1294'>1295</a>\u001b[0m     \u001b[39m\"\"\"Search all candidates in param_grid\"\"\"\u001b[39;00m\n\u001b[0;32m-> <a href='file:///home/gianni/.virtualenvs/TMD/lib/python3.8/site-packages/sklearn/model_selection/_search.py?line=1295'>1296</a>\u001b[0m     evaluate_candidates(ParameterGrid(\u001b[39mself\u001b[39;49m\u001b[39m.\u001b[39;49mparam_grid))\n",
      "File \u001b[0;32m~/.virtualenvs/TMD/lib/python3.8/site-packages/sklearn/model_selection/_search.py:795\u001b[0m, in \u001b[0;36mBaseSearchCV.fit.<locals>.evaluate_candidates\u001b[0;34m(candidate_params, cv, more_results)\u001b[0m\n\u001b[1;32m    <a href='file:///home/gianni/.virtualenvs/TMD/lib/python3.8/site-packages/sklearn/model_selection/_search.py?line=789'>790</a>\u001b[0m \u001b[39mif\u001b[39;00m \u001b[39mself\u001b[39m\u001b[39m.\u001b[39mverbose \u001b[39m>\u001b[39m \u001b[39m0\u001b[39m:\n\u001b[1;32m    <a href='file:///home/gianni/.virtualenvs/TMD/lib/python3.8/site-packages/sklearn/model_selection/_search.py?line=790'>791</a>\u001b[0m     \u001b[39mprint\u001b[39m(\u001b[39m\"\u001b[39m\u001b[39mFitting \u001b[39m\u001b[39m{0}\u001b[39;00m\u001b[39m folds for each of \u001b[39m\u001b[39m{1}\u001b[39;00m\u001b[39m candidates,\u001b[39m\u001b[39m\"\u001b[39m\n\u001b[1;32m    <a href='file:///home/gianni/.virtualenvs/TMD/lib/python3.8/site-packages/sklearn/model_selection/_search.py?line=791'>792</a>\u001b[0m           \u001b[39m\"\u001b[39m\u001b[39m totalling \u001b[39m\u001b[39m{2}\u001b[39;00m\u001b[39m fits\u001b[39m\u001b[39m\"\u001b[39m\u001b[39m.\u001b[39mformat(\n\u001b[1;32m    <a href='file:///home/gianni/.virtualenvs/TMD/lib/python3.8/site-packages/sklearn/model_selection/_search.py?line=792'>793</a>\u001b[0m               n_splits, n_candidates, n_candidates \u001b[39m*\u001b[39m n_splits))\n\u001b[0;32m--> <a href='file:///home/gianni/.virtualenvs/TMD/lib/python3.8/site-packages/sklearn/model_selection/_search.py?line=794'>795</a>\u001b[0m out \u001b[39m=\u001b[39m parallel(delayed(_fit_and_score)(clone(base_estimator),\n\u001b[1;32m    <a href='file:///home/gianni/.virtualenvs/TMD/lib/python3.8/site-packages/sklearn/model_selection/_search.py?line=795'>796</a>\u001b[0m                                        X, y,\n\u001b[1;32m    <a href='file:///home/gianni/.virtualenvs/TMD/lib/python3.8/site-packages/sklearn/model_selection/_search.py?line=796'>797</a>\u001b[0m                                        train\u001b[39m=\u001b[39;49mtrain, test\u001b[39m=\u001b[39;49mtest,\n\u001b[1;32m    <a href='file:///home/gianni/.virtualenvs/TMD/lib/python3.8/site-packages/sklearn/model_selection/_search.py?line=797'>798</a>\u001b[0m                                        parameters\u001b[39m=\u001b[39;49mparameters,\n\u001b[1;32m    <a href='file:///home/gianni/.virtualenvs/TMD/lib/python3.8/site-packages/sklearn/model_selection/_search.py?line=798'>799</a>\u001b[0m                                        split_progress\u001b[39m=\u001b[39;49m(\n\u001b[1;32m    <a href='file:///home/gianni/.virtualenvs/TMD/lib/python3.8/site-packages/sklearn/model_selection/_search.py?line=799'>800</a>\u001b[0m                                            split_idx,\n\u001b[1;32m    <a href='file:///home/gianni/.virtualenvs/TMD/lib/python3.8/site-packages/sklearn/model_selection/_search.py?line=800'>801</a>\u001b[0m                                            n_splits),\n\u001b[1;32m    <a href='file:///home/gianni/.virtualenvs/TMD/lib/python3.8/site-packages/sklearn/model_selection/_search.py?line=801'>802</a>\u001b[0m                                        candidate_progress\u001b[39m=\u001b[39;49m(\n\u001b[1;32m    <a href='file:///home/gianni/.virtualenvs/TMD/lib/python3.8/site-packages/sklearn/model_selection/_search.py?line=802'>803</a>\u001b[0m                                            cand_idx,\n\u001b[1;32m    <a href='file:///home/gianni/.virtualenvs/TMD/lib/python3.8/site-packages/sklearn/model_selection/_search.py?line=803'>804</a>\u001b[0m                                            n_candidates),\n\u001b[1;32m    <a href='file:///home/gianni/.virtualenvs/TMD/lib/python3.8/site-packages/sklearn/model_selection/_search.py?line=804'>805</a>\u001b[0m                                        \u001b[39m*\u001b[39;49m\u001b[39m*\u001b[39;49mfit_and_score_kwargs)\n\u001b[1;32m    <a href='file:///home/gianni/.virtualenvs/TMD/lib/python3.8/site-packages/sklearn/model_selection/_search.py?line=805'>806</a>\u001b[0m                \u001b[39mfor\u001b[39;49;00m (cand_idx, parameters),\n\u001b[1;32m    <a href='file:///home/gianni/.virtualenvs/TMD/lib/python3.8/site-packages/sklearn/model_selection/_search.py?line=806'>807</a>\u001b[0m                    (split_idx, (train, test)) \u001b[39min\u001b[39;49;00m product(\n\u001b[1;32m    <a href='file:///home/gianni/.virtualenvs/TMD/lib/python3.8/site-packages/sklearn/model_selection/_search.py?line=807'>808</a>\u001b[0m                    \u001b[39menumerate\u001b[39;49m(candidate_params),\n\u001b[1;32m    <a href='file:///home/gianni/.virtualenvs/TMD/lib/python3.8/site-packages/sklearn/model_selection/_search.py?line=808'>809</a>\u001b[0m                    \u001b[39menumerate\u001b[39;49m(cv\u001b[39m.\u001b[39;49msplit(X, y, groups))))\n\u001b[1;32m    <a href='file:///home/gianni/.virtualenvs/TMD/lib/python3.8/site-packages/sklearn/model_selection/_search.py?line=810'>811</a>\u001b[0m \u001b[39mif\u001b[39;00m \u001b[39mlen\u001b[39m(out) \u001b[39m<\u001b[39m \u001b[39m1\u001b[39m:\n\u001b[1;32m    <a href='file:///home/gianni/.virtualenvs/TMD/lib/python3.8/site-packages/sklearn/model_selection/_search.py?line=811'>812</a>\u001b[0m     \u001b[39mraise\u001b[39;00m \u001b[39mValueError\u001b[39;00m(\u001b[39m'\u001b[39m\u001b[39mNo fits were performed. \u001b[39m\u001b[39m'\u001b[39m\n\u001b[1;32m    <a href='file:///home/gianni/.virtualenvs/TMD/lib/python3.8/site-packages/sklearn/model_selection/_search.py?line=812'>813</a>\u001b[0m                      \u001b[39m'\u001b[39m\u001b[39mWas the CV iterator empty? \u001b[39m\u001b[39m'\u001b[39m\n\u001b[1;32m    <a href='file:///home/gianni/.virtualenvs/TMD/lib/python3.8/site-packages/sklearn/model_selection/_search.py?line=813'>814</a>\u001b[0m                      \u001b[39m'\u001b[39m\u001b[39mWere there no candidates?\u001b[39m\u001b[39m'\u001b[39m)\n",
      "File \u001b[0;32m~/.virtualenvs/TMD/lib/python3.8/site-packages/joblib/parallel.py:1046\u001b[0m, in \u001b[0;36mParallel.__call__\u001b[0;34m(self, iterable)\u001b[0m\n\u001b[1;32m   <a href='file:///home/gianni/.virtualenvs/TMD/lib/python3.8/site-packages/joblib/parallel.py?line=1042'>1043</a>\u001b[0m \u001b[39mif\u001b[39;00m \u001b[39mself\u001b[39m\u001b[39m.\u001b[39mdispatch_one_batch(iterator):\n\u001b[1;32m   <a href='file:///home/gianni/.virtualenvs/TMD/lib/python3.8/site-packages/joblib/parallel.py?line=1043'>1044</a>\u001b[0m     \u001b[39mself\u001b[39m\u001b[39m.\u001b[39m_iterating \u001b[39m=\u001b[39m \u001b[39mself\u001b[39m\u001b[39m.\u001b[39m_original_iterator \u001b[39mis\u001b[39;00m \u001b[39mnot\u001b[39;00m \u001b[39mNone\u001b[39;00m\n\u001b[0;32m-> <a href='file:///home/gianni/.virtualenvs/TMD/lib/python3.8/site-packages/joblib/parallel.py?line=1045'>1046</a>\u001b[0m \u001b[39mwhile\u001b[39;00m \u001b[39mself\u001b[39;49m\u001b[39m.\u001b[39;49mdispatch_one_batch(iterator):\n\u001b[1;32m   <a href='file:///home/gianni/.virtualenvs/TMD/lib/python3.8/site-packages/joblib/parallel.py?line=1046'>1047</a>\u001b[0m     \u001b[39mpass\u001b[39;00m\n\u001b[1;32m   <a href='file:///home/gianni/.virtualenvs/TMD/lib/python3.8/site-packages/joblib/parallel.py?line=1048'>1049</a>\u001b[0m \u001b[39mif\u001b[39;00m pre_dispatch \u001b[39m==\u001b[39m \u001b[39m\"\u001b[39m\u001b[39mall\u001b[39m\u001b[39m\"\u001b[39m \u001b[39mor\u001b[39;00m n_jobs \u001b[39m==\u001b[39m \u001b[39m1\u001b[39m:\n\u001b[1;32m   <a href='file:///home/gianni/.virtualenvs/TMD/lib/python3.8/site-packages/joblib/parallel.py?line=1049'>1050</a>\u001b[0m     \u001b[39m# The iterable was consumed all at once by the above for loop.\u001b[39;00m\n\u001b[1;32m   <a href='file:///home/gianni/.virtualenvs/TMD/lib/python3.8/site-packages/joblib/parallel.py?line=1050'>1051</a>\u001b[0m     \u001b[39m# No need to wait for async callbacks to trigger to\u001b[39;00m\n\u001b[1;32m   <a href='file:///home/gianni/.virtualenvs/TMD/lib/python3.8/site-packages/joblib/parallel.py?line=1051'>1052</a>\u001b[0m     \u001b[39m# consumption.\u001b[39;00m\n",
      "File \u001b[0;32m~/.virtualenvs/TMD/lib/python3.8/site-packages/joblib/parallel.py:861\u001b[0m, in \u001b[0;36mParallel.dispatch_one_batch\u001b[0;34m(self, iterator)\u001b[0m\n\u001b[1;32m    <a href='file:///home/gianni/.virtualenvs/TMD/lib/python3.8/site-packages/joblib/parallel.py?line=858'>859</a>\u001b[0m     \u001b[39mreturn\u001b[39;00m \u001b[39mFalse\u001b[39;00m\n\u001b[1;32m    <a href='file:///home/gianni/.virtualenvs/TMD/lib/python3.8/site-packages/joblib/parallel.py?line=859'>860</a>\u001b[0m \u001b[39melse\u001b[39;00m:\n\u001b[0;32m--> <a href='file:///home/gianni/.virtualenvs/TMD/lib/python3.8/site-packages/joblib/parallel.py?line=860'>861</a>\u001b[0m     \u001b[39mself\u001b[39;49m\u001b[39m.\u001b[39;49m_dispatch(tasks)\n\u001b[1;32m    <a href='file:///home/gianni/.virtualenvs/TMD/lib/python3.8/site-packages/joblib/parallel.py?line=861'>862</a>\u001b[0m     \u001b[39mreturn\u001b[39;00m \u001b[39mTrue\u001b[39;00m\n",
      "File \u001b[0;32m~/.virtualenvs/TMD/lib/python3.8/site-packages/joblib/parallel.py:779\u001b[0m, in \u001b[0;36mParallel._dispatch\u001b[0;34m(self, batch)\u001b[0m\n\u001b[1;32m    <a href='file:///home/gianni/.virtualenvs/TMD/lib/python3.8/site-packages/joblib/parallel.py?line=776'>777</a>\u001b[0m \u001b[39mwith\u001b[39;00m \u001b[39mself\u001b[39m\u001b[39m.\u001b[39m_lock:\n\u001b[1;32m    <a href='file:///home/gianni/.virtualenvs/TMD/lib/python3.8/site-packages/joblib/parallel.py?line=777'>778</a>\u001b[0m     job_idx \u001b[39m=\u001b[39m \u001b[39mlen\u001b[39m(\u001b[39mself\u001b[39m\u001b[39m.\u001b[39m_jobs)\n\u001b[0;32m--> <a href='file:///home/gianni/.virtualenvs/TMD/lib/python3.8/site-packages/joblib/parallel.py?line=778'>779</a>\u001b[0m     job \u001b[39m=\u001b[39m \u001b[39mself\u001b[39;49m\u001b[39m.\u001b[39;49m_backend\u001b[39m.\u001b[39;49mapply_async(batch, callback\u001b[39m=\u001b[39;49mcb)\n\u001b[1;32m    <a href='file:///home/gianni/.virtualenvs/TMD/lib/python3.8/site-packages/joblib/parallel.py?line=779'>780</a>\u001b[0m     \u001b[39m# A job can complete so quickly than its callback is\u001b[39;00m\n\u001b[1;32m    <a href='file:///home/gianni/.virtualenvs/TMD/lib/python3.8/site-packages/joblib/parallel.py?line=780'>781</a>\u001b[0m     \u001b[39m# called before we get here, causing self._jobs to\u001b[39;00m\n\u001b[1;32m    <a href='file:///home/gianni/.virtualenvs/TMD/lib/python3.8/site-packages/joblib/parallel.py?line=781'>782</a>\u001b[0m     \u001b[39m# grow. To ensure correct results ordering, .insert is\u001b[39;00m\n\u001b[1;32m    <a href='file:///home/gianni/.virtualenvs/TMD/lib/python3.8/site-packages/joblib/parallel.py?line=782'>783</a>\u001b[0m     \u001b[39m# used (rather than .append) in the following line\u001b[39;00m\n\u001b[1;32m    <a href='file:///home/gianni/.virtualenvs/TMD/lib/python3.8/site-packages/joblib/parallel.py?line=783'>784</a>\u001b[0m     \u001b[39mself\u001b[39m\u001b[39m.\u001b[39m_jobs\u001b[39m.\u001b[39minsert(job_idx, job)\n",
      "File \u001b[0;32m~/.virtualenvs/TMD/lib/python3.8/site-packages/joblib/_parallel_backends.py:208\u001b[0m, in \u001b[0;36mSequentialBackend.apply_async\u001b[0;34m(self, func, callback)\u001b[0m\n\u001b[1;32m    <a href='file:///home/gianni/.virtualenvs/TMD/lib/python3.8/site-packages/joblib/_parallel_backends.py?line=205'>206</a>\u001b[0m \u001b[39mdef\u001b[39;00m \u001b[39mapply_async\u001b[39m(\u001b[39mself\u001b[39m, func, callback\u001b[39m=\u001b[39m\u001b[39mNone\u001b[39;00m):\n\u001b[1;32m    <a href='file:///home/gianni/.virtualenvs/TMD/lib/python3.8/site-packages/joblib/_parallel_backends.py?line=206'>207</a>\u001b[0m     \u001b[39m\"\"\"Schedule a func to be run\"\"\"\u001b[39;00m\n\u001b[0;32m--> <a href='file:///home/gianni/.virtualenvs/TMD/lib/python3.8/site-packages/joblib/_parallel_backends.py?line=207'>208</a>\u001b[0m     result \u001b[39m=\u001b[39m ImmediateResult(func)\n\u001b[1;32m    <a href='file:///home/gianni/.virtualenvs/TMD/lib/python3.8/site-packages/joblib/_parallel_backends.py?line=208'>209</a>\u001b[0m     \u001b[39mif\u001b[39;00m callback:\n\u001b[1;32m    <a href='file:///home/gianni/.virtualenvs/TMD/lib/python3.8/site-packages/joblib/_parallel_backends.py?line=209'>210</a>\u001b[0m         callback(result)\n",
      "File \u001b[0;32m~/.virtualenvs/TMD/lib/python3.8/site-packages/joblib/_parallel_backends.py:572\u001b[0m, in \u001b[0;36mImmediateResult.__init__\u001b[0;34m(self, batch)\u001b[0m\n\u001b[1;32m    <a href='file:///home/gianni/.virtualenvs/TMD/lib/python3.8/site-packages/joblib/_parallel_backends.py?line=568'>569</a>\u001b[0m \u001b[39mdef\u001b[39;00m \u001b[39m__init__\u001b[39m(\u001b[39mself\u001b[39m, batch):\n\u001b[1;32m    <a href='file:///home/gianni/.virtualenvs/TMD/lib/python3.8/site-packages/joblib/_parallel_backends.py?line=569'>570</a>\u001b[0m     \u001b[39m# Don't delay the application, to avoid keeping the input\u001b[39;00m\n\u001b[1;32m    <a href='file:///home/gianni/.virtualenvs/TMD/lib/python3.8/site-packages/joblib/_parallel_backends.py?line=570'>571</a>\u001b[0m     \u001b[39m# arguments in memory\u001b[39;00m\n\u001b[0;32m--> <a href='file:///home/gianni/.virtualenvs/TMD/lib/python3.8/site-packages/joblib/_parallel_backends.py?line=571'>572</a>\u001b[0m     \u001b[39mself\u001b[39m\u001b[39m.\u001b[39mresults \u001b[39m=\u001b[39m batch()\n",
      "File \u001b[0;32m~/.virtualenvs/TMD/lib/python3.8/site-packages/joblib/parallel.py:262\u001b[0m, in \u001b[0;36mBatchedCalls.__call__\u001b[0;34m(self)\u001b[0m\n\u001b[1;32m    <a href='file:///home/gianni/.virtualenvs/TMD/lib/python3.8/site-packages/joblib/parallel.py?line=257'>258</a>\u001b[0m \u001b[39mdef\u001b[39;00m \u001b[39m__call__\u001b[39m(\u001b[39mself\u001b[39m):\n\u001b[1;32m    <a href='file:///home/gianni/.virtualenvs/TMD/lib/python3.8/site-packages/joblib/parallel.py?line=258'>259</a>\u001b[0m     \u001b[39m# Set the default nested backend to self._backend but do not set the\u001b[39;00m\n\u001b[1;32m    <a href='file:///home/gianni/.virtualenvs/TMD/lib/python3.8/site-packages/joblib/parallel.py?line=259'>260</a>\u001b[0m     \u001b[39m# change the default number of processes to -1\u001b[39;00m\n\u001b[1;32m    <a href='file:///home/gianni/.virtualenvs/TMD/lib/python3.8/site-packages/joblib/parallel.py?line=260'>261</a>\u001b[0m     \u001b[39mwith\u001b[39;00m parallel_backend(\u001b[39mself\u001b[39m\u001b[39m.\u001b[39m_backend, n_jobs\u001b[39m=\u001b[39m\u001b[39mself\u001b[39m\u001b[39m.\u001b[39m_n_jobs):\n\u001b[0;32m--> <a href='file:///home/gianni/.virtualenvs/TMD/lib/python3.8/site-packages/joblib/parallel.py?line=261'>262</a>\u001b[0m         \u001b[39mreturn\u001b[39;00m [func(\u001b[39m*\u001b[39margs, \u001b[39m*\u001b[39m\u001b[39m*\u001b[39mkwargs)\n\u001b[1;32m    <a href='file:///home/gianni/.virtualenvs/TMD/lib/python3.8/site-packages/joblib/parallel.py?line=262'>263</a>\u001b[0m                 \u001b[39mfor\u001b[39;00m func, args, kwargs \u001b[39min\u001b[39;00m \u001b[39mself\u001b[39m\u001b[39m.\u001b[39mitems]\n",
      "File \u001b[0;32m~/.virtualenvs/TMD/lib/python3.8/site-packages/joblib/parallel.py:262\u001b[0m, in \u001b[0;36m<listcomp>\u001b[0;34m(.0)\u001b[0m\n\u001b[1;32m    <a href='file:///home/gianni/.virtualenvs/TMD/lib/python3.8/site-packages/joblib/parallel.py?line=257'>258</a>\u001b[0m \u001b[39mdef\u001b[39;00m \u001b[39m__call__\u001b[39m(\u001b[39mself\u001b[39m):\n\u001b[1;32m    <a href='file:///home/gianni/.virtualenvs/TMD/lib/python3.8/site-packages/joblib/parallel.py?line=258'>259</a>\u001b[0m     \u001b[39m# Set the default nested backend to self._backend but do not set the\u001b[39;00m\n\u001b[1;32m    <a href='file:///home/gianni/.virtualenvs/TMD/lib/python3.8/site-packages/joblib/parallel.py?line=259'>260</a>\u001b[0m     \u001b[39m# change the default number of processes to -1\u001b[39;00m\n\u001b[1;32m    <a href='file:///home/gianni/.virtualenvs/TMD/lib/python3.8/site-packages/joblib/parallel.py?line=260'>261</a>\u001b[0m     \u001b[39mwith\u001b[39;00m parallel_backend(\u001b[39mself\u001b[39m\u001b[39m.\u001b[39m_backend, n_jobs\u001b[39m=\u001b[39m\u001b[39mself\u001b[39m\u001b[39m.\u001b[39m_n_jobs):\n\u001b[0;32m--> <a href='file:///home/gianni/.virtualenvs/TMD/lib/python3.8/site-packages/joblib/parallel.py?line=261'>262</a>\u001b[0m         \u001b[39mreturn\u001b[39;00m [func(\u001b[39m*\u001b[39;49margs, \u001b[39m*\u001b[39;49m\u001b[39m*\u001b[39;49mkwargs)\n\u001b[1;32m    <a href='file:///home/gianni/.virtualenvs/TMD/lib/python3.8/site-packages/joblib/parallel.py?line=262'>263</a>\u001b[0m                 \u001b[39mfor\u001b[39;00m func, args, kwargs \u001b[39min\u001b[39;00m \u001b[39mself\u001b[39m\u001b[39m.\u001b[39mitems]\n",
      "File \u001b[0;32m~/.virtualenvs/TMD/lib/python3.8/site-packages/sklearn/utils/fixes.py:222\u001b[0m, in \u001b[0;36m_FuncWrapper.__call__\u001b[0;34m(self, *args, **kwargs)\u001b[0m\n\u001b[1;32m    <a href='file:///home/gianni/.virtualenvs/TMD/lib/python3.8/site-packages/sklearn/utils/fixes.py?line=219'>220</a>\u001b[0m \u001b[39mdef\u001b[39;00m \u001b[39m__call__\u001b[39m(\u001b[39mself\u001b[39m, \u001b[39m*\u001b[39margs, \u001b[39m*\u001b[39m\u001b[39m*\u001b[39mkwargs):\n\u001b[1;32m    <a href='file:///home/gianni/.virtualenvs/TMD/lib/python3.8/site-packages/sklearn/utils/fixes.py?line=220'>221</a>\u001b[0m     \u001b[39mwith\u001b[39;00m config_context(\u001b[39m*\u001b[39m\u001b[39m*\u001b[39m\u001b[39mself\u001b[39m\u001b[39m.\u001b[39mconfig):\n\u001b[0;32m--> <a href='file:///home/gianni/.virtualenvs/TMD/lib/python3.8/site-packages/sklearn/utils/fixes.py?line=221'>222</a>\u001b[0m         \u001b[39mreturn\u001b[39;00m \u001b[39mself\u001b[39;49m\u001b[39m.\u001b[39;49mfunction(\u001b[39m*\u001b[39;49margs, \u001b[39m*\u001b[39;49m\u001b[39m*\u001b[39;49mkwargs)\n",
      "File \u001b[0;32m~/.virtualenvs/TMD/lib/python3.8/site-packages/sklearn/model_selection/_validation.py:598\u001b[0m, in \u001b[0;36m_fit_and_score\u001b[0;34m(estimator, X, y, scorer, train, test, verbose, parameters, fit_params, return_train_score, return_parameters, return_n_test_samples, return_times, return_estimator, split_progress, candidate_progress, error_score)\u001b[0m\n\u001b[1;32m    <a href='file:///home/gianni/.virtualenvs/TMD/lib/python3.8/site-packages/sklearn/model_selection/_validation.py?line=595'>596</a>\u001b[0m         estimator\u001b[39m.\u001b[39mfit(X_train, \u001b[39m*\u001b[39m\u001b[39m*\u001b[39mfit_params)\n\u001b[1;32m    <a href='file:///home/gianni/.virtualenvs/TMD/lib/python3.8/site-packages/sklearn/model_selection/_validation.py?line=596'>597</a>\u001b[0m     \u001b[39melse\u001b[39;00m:\n\u001b[0;32m--> <a href='file:///home/gianni/.virtualenvs/TMD/lib/python3.8/site-packages/sklearn/model_selection/_validation.py?line=597'>598</a>\u001b[0m         estimator\u001b[39m.\u001b[39;49mfit(X_train, y_train, \u001b[39m*\u001b[39;49m\u001b[39m*\u001b[39;49mfit_params)\n\u001b[1;32m    <a href='file:///home/gianni/.virtualenvs/TMD/lib/python3.8/site-packages/sklearn/model_selection/_validation.py?line=599'>600</a>\u001b[0m \u001b[39mexcept\u001b[39;00m \u001b[39mException\u001b[39;00m \u001b[39mas\u001b[39;00m e:\n\u001b[1;32m    <a href='file:///home/gianni/.virtualenvs/TMD/lib/python3.8/site-packages/sklearn/model_selection/_validation.py?line=600'>601</a>\u001b[0m     \u001b[39m# Note fit time as time until error\u001b[39;00m\n\u001b[1;32m    <a href='file:///home/gianni/.virtualenvs/TMD/lib/python3.8/site-packages/sklearn/model_selection/_validation.py?line=601'>602</a>\u001b[0m     fit_time \u001b[39m=\u001b[39m time\u001b[39m.\u001b[39mtime() \u001b[39m-\u001b[39m start_time\n",
      "File \u001b[0;32m~/.virtualenvs/TMD/lib/python3.8/site-packages/sklearn/ensemble/_forest.py:387\u001b[0m, in \u001b[0;36mBaseForest.fit\u001b[0;34m(self, X, y, sample_weight)\u001b[0m\n\u001b[1;32m    <a href='file:///home/gianni/.virtualenvs/TMD/lib/python3.8/site-packages/sklearn/ensemble/_forest.py?line=376'>377</a>\u001b[0m trees \u001b[39m=\u001b[39m [\u001b[39mself\u001b[39m\u001b[39m.\u001b[39m_make_estimator(append\u001b[39m=\u001b[39m\u001b[39mFalse\u001b[39;00m,\n\u001b[1;32m    <a href='file:///home/gianni/.virtualenvs/TMD/lib/python3.8/site-packages/sklearn/ensemble/_forest.py?line=377'>378</a>\u001b[0m                               random_state\u001b[39m=\u001b[39mrandom_state)\n\u001b[1;32m    <a href='file:///home/gianni/.virtualenvs/TMD/lib/python3.8/site-packages/sklearn/ensemble/_forest.py?line=378'>379</a>\u001b[0m          \u001b[39mfor\u001b[39;00m i \u001b[39min\u001b[39;00m \u001b[39mrange\u001b[39m(n_more_estimators)]\n\u001b[1;32m    <a href='file:///home/gianni/.virtualenvs/TMD/lib/python3.8/site-packages/sklearn/ensemble/_forest.py?line=380'>381</a>\u001b[0m \u001b[39m# Parallel loop: we prefer the threading backend as the Cython code\u001b[39;00m\n\u001b[1;32m    <a href='file:///home/gianni/.virtualenvs/TMD/lib/python3.8/site-packages/sklearn/ensemble/_forest.py?line=381'>382</a>\u001b[0m \u001b[39m# for fitting the trees is internally releasing the Python GIL\u001b[39;00m\n\u001b[1;32m    <a href='file:///home/gianni/.virtualenvs/TMD/lib/python3.8/site-packages/sklearn/ensemble/_forest.py?line=382'>383</a>\u001b[0m \u001b[39m# making threading more efficient than multiprocessing in\u001b[39;00m\n\u001b[1;32m    <a href='file:///home/gianni/.virtualenvs/TMD/lib/python3.8/site-packages/sklearn/ensemble/_forest.py?line=383'>384</a>\u001b[0m \u001b[39m# that case. However, for joblib 0.12+ we respect any\u001b[39;00m\n\u001b[1;32m    <a href='file:///home/gianni/.virtualenvs/TMD/lib/python3.8/site-packages/sklearn/ensemble/_forest.py?line=384'>385</a>\u001b[0m \u001b[39m# parallel_backend contexts set at a higher level,\u001b[39;00m\n\u001b[1;32m    <a href='file:///home/gianni/.virtualenvs/TMD/lib/python3.8/site-packages/sklearn/ensemble/_forest.py?line=385'>386</a>\u001b[0m \u001b[39m# since correctness does not rely on using threads.\u001b[39;00m\n\u001b[0;32m--> <a href='file:///home/gianni/.virtualenvs/TMD/lib/python3.8/site-packages/sklearn/ensemble/_forest.py?line=386'>387</a>\u001b[0m trees \u001b[39m=\u001b[39m Parallel(n_jobs\u001b[39m=\u001b[39;49m\u001b[39mself\u001b[39;49m\u001b[39m.\u001b[39;49mn_jobs, verbose\u001b[39m=\u001b[39;49m\u001b[39mself\u001b[39;49m\u001b[39m.\u001b[39;49mverbose,\n\u001b[1;32m    <a href='file:///home/gianni/.virtualenvs/TMD/lib/python3.8/site-packages/sklearn/ensemble/_forest.py?line=387'>388</a>\u001b[0m                  \u001b[39m*\u001b[39;49m\u001b[39m*\u001b[39;49m_joblib_parallel_args(prefer\u001b[39m=\u001b[39;49m\u001b[39m'\u001b[39;49m\u001b[39mthreads\u001b[39;49m\u001b[39m'\u001b[39;49m))(\n\u001b[1;32m    <a href='file:///home/gianni/.virtualenvs/TMD/lib/python3.8/site-packages/sklearn/ensemble/_forest.py?line=388'>389</a>\u001b[0m     delayed(_parallel_build_trees)(\n\u001b[1;32m    <a href='file:///home/gianni/.virtualenvs/TMD/lib/python3.8/site-packages/sklearn/ensemble/_forest.py?line=389'>390</a>\u001b[0m         t, \u001b[39mself\u001b[39;49m, X, y, sample_weight, i, \u001b[39mlen\u001b[39;49m(trees),\n\u001b[1;32m    <a href='file:///home/gianni/.virtualenvs/TMD/lib/python3.8/site-packages/sklearn/ensemble/_forest.py?line=390'>391</a>\u001b[0m         verbose\u001b[39m=\u001b[39;49m\u001b[39mself\u001b[39;49m\u001b[39m.\u001b[39;49mverbose, class_weight\u001b[39m=\u001b[39;49m\u001b[39mself\u001b[39;49m\u001b[39m.\u001b[39;49mclass_weight,\n\u001b[1;32m    <a href='file:///home/gianni/.virtualenvs/TMD/lib/python3.8/site-packages/sklearn/ensemble/_forest.py?line=391'>392</a>\u001b[0m         n_samples_bootstrap\u001b[39m=\u001b[39;49mn_samples_bootstrap)\n\u001b[1;32m    <a href='file:///home/gianni/.virtualenvs/TMD/lib/python3.8/site-packages/sklearn/ensemble/_forest.py?line=392'>393</a>\u001b[0m     \u001b[39mfor\u001b[39;49;00m i, t \u001b[39min\u001b[39;49;00m \u001b[39menumerate\u001b[39;49m(trees))\n\u001b[1;32m    <a href='file:///home/gianni/.virtualenvs/TMD/lib/python3.8/site-packages/sklearn/ensemble/_forest.py?line=394'>395</a>\u001b[0m \u001b[39m# Collect newly grown trees\u001b[39;00m\n\u001b[1;32m    <a href='file:///home/gianni/.virtualenvs/TMD/lib/python3.8/site-packages/sklearn/ensemble/_forest.py?line=395'>396</a>\u001b[0m \u001b[39mself\u001b[39m\u001b[39m.\u001b[39mestimators_\u001b[39m.\u001b[39mextend(trees)\n",
      "File \u001b[0;32m~/.virtualenvs/TMD/lib/python3.8/site-packages/joblib/parallel.py:1046\u001b[0m, in \u001b[0;36mParallel.__call__\u001b[0;34m(self, iterable)\u001b[0m\n\u001b[1;32m   <a href='file:///home/gianni/.virtualenvs/TMD/lib/python3.8/site-packages/joblib/parallel.py?line=1042'>1043</a>\u001b[0m \u001b[39mif\u001b[39;00m \u001b[39mself\u001b[39m\u001b[39m.\u001b[39mdispatch_one_batch(iterator):\n\u001b[1;32m   <a href='file:///home/gianni/.virtualenvs/TMD/lib/python3.8/site-packages/joblib/parallel.py?line=1043'>1044</a>\u001b[0m     \u001b[39mself\u001b[39m\u001b[39m.\u001b[39m_iterating \u001b[39m=\u001b[39m \u001b[39mself\u001b[39m\u001b[39m.\u001b[39m_original_iterator \u001b[39mis\u001b[39;00m \u001b[39mnot\u001b[39;00m \u001b[39mNone\u001b[39;00m\n\u001b[0;32m-> <a href='file:///home/gianni/.virtualenvs/TMD/lib/python3.8/site-packages/joblib/parallel.py?line=1045'>1046</a>\u001b[0m \u001b[39mwhile\u001b[39;00m \u001b[39mself\u001b[39;49m\u001b[39m.\u001b[39;49mdispatch_one_batch(iterator):\n\u001b[1;32m   <a href='file:///home/gianni/.virtualenvs/TMD/lib/python3.8/site-packages/joblib/parallel.py?line=1046'>1047</a>\u001b[0m     \u001b[39mpass\u001b[39;00m\n\u001b[1;32m   <a href='file:///home/gianni/.virtualenvs/TMD/lib/python3.8/site-packages/joblib/parallel.py?line=1048'>1049</a>\u001b[0m \u001b[39mif\u001b[39;00m pre_dispatch \u001b[39m==\u001b[39m \u001b[39m\"\u001b[39m\u001b[39mall\u001b[39m\u001b[39m\"\u001b[39m \u001b[39mor\u001b[39;00m n_jobs \u001b[39m==\u001b[39m \u001b[39m1\u001b[39m:\n\u001b[1;32m   <a href='file:///home/gianni/.virtualenvs/TMD/lib/python3.8/site-packages/joblib/parallel.py?line=1049'>1050</a>\u001b[0m     \u001b[39m# The iterable was consumed all at once by the above for loop.\u001b[39;00m\n\u001b[1;32m   <a href='file:///home/gianni/.virtualenvs/TMD/lib/python3.8/site-packages/joblib/parallel.py?line=1050'>1051</a>\u001b[0m     \u001b[39m# No need to wait for async callbacks to trigger to\u001b[39;00m\n\u001b[1;32m   <a href='file:///home/gianni/.virtualenvs/TMD/lib/python3.8/site-packages/joblib/parallel.py?line=1051'>1052</a>\u001b[0m     \u001b[39m# consumption.\u001b[39;00m\n",
      "File \u001b[0;32m~/.virtualenvs/TMD/lib/python3.8/site-packages/joblib/parallel.py:861\u001b[0m, in \u001b[0;36mParallel.dispatch_one_batch\u001b[0;34m(self, iterator)\u001b[0m\n\u001b[1;32m    <a href='file:///home/gianni/.virtualenvs/TMD/lib/python3.8/site-packages/joblib/parallel.py?line=858'>859</a>\u001b[0m     \u001b[39mreturn\u001b[39;00m \u001b[39mFalse\u001b[39;00m\n\u001b[1;32m    <a href='file:///home/gianni/.virtualenvs/TMD/lib/python3.8/site-packages/joblib/parallel.py?line=859'>860</a>\u001b[0m \u001b[39melse\u001b[39;00m:\n\u001b[0;32m--> <a href='file:///home/gianni/.virtualenvs/TMD/lib/python3.8/site-packages/joblib/parallel.py?line=860'>861</a>\u001b[0m     \u001b[39mself\u001b[39;49m\u001b[39m.\u001b[39;49m_dispatch(tasks)\n\u001b[1;32m    <a href='file:///home/gianni/.virtualenvs/TMD/lib/python3.8/site-packages/joblib/parallel.py?line=861'>862</a>\u001b[0m     \u001b[39mreturn\u001b[39;00m \u001b[39mTrue\u001b[39;00m\n",
      "File \u001b[0;32m~/.virtualenvs/TMD/lib/python3.8/site-packages/joblib/parallel.py:779\u001b[0m, in \u001b[0;36mParallel._dispatch\u001b[0;34m(self, batch)\u001b[0m\n\u001b[1;32m    <a href='file:///home/gianni/.virtualenvs/TMD/lib/python3.8/site-packages/joblib/parallel.py?line=776'>777</a>\u001b[0m \u001b[39mwith\u001b[39;00m \u001b[39mself\u001b[39m\u001b[39m.\u001b[39m_lock:\n\u001b[1;32m    <a href='file:///home/gianni/.virtualenvs/TMD/lib/python3.8/site-packages/joblib/parallel.py?line=777'>778</a>\u001b[0m     job_idx \u001b[39m=\u001b[39m \u001b[39mlen\u001b[39m(\u001b[39mself\u001b[39m\u001b[39m.\u001b[39m_jobs)\n\u001b[0;32m--> <a href='file:///home/gianni/.virtualenvs/TMD/lib/python3.8/site-packages/joblib/parallel.py?line=778'>779</a>\u001b[0m     job \u001b[39m=\u001b[39m \u001b[39mself\u001b[39;49m\u001b[39m.\u001b[39;49m_backend\u001b[39m.\u001b[39;49mapply_async(batch, callback\u001b[39m=\u001b[39;49mcb)\n\u001b[1;32m    <a href='file:///home/gianni/.virtualenvs/TMD/lib/python3.8/site-packages/joblib/parallel.py?line=779'>780</a>\u001b[0m     \u001b[39m# A job can complete so quickly than its callback is\u001b[39;00m\n\u001b[1;32m    <a href='file:///home/gianni/.virtualenvs/TMD/lib/python3.8/site-packages/joblib/parallel.py?line=780'>781</a>\u001b[0m     \u001b[39m# called before we get here, causing self._jobs to\u001b[39;00m\n\u001b[1;32m    <a href='file:///home/gianni/.virtualenvs/TMD/lib/python3.8/site-packages/joblib/parallel.py?line=781'>782</a>\u001b[0m     \u001b[39m# grow. To ensure correct results ordering, .insert is\u001b[39;00m\n\u001b[1;32m    <a href='file:///home/gianni/.virtualenvs/TMD/lib/python3.8/site-packages/joblib/parallel.py?line=782'>783</a>\u001b[0m     \u001b[39m# used (rather than .append) in the following line\u001b[39;00m\n\u001b[1;32m    <a href='file:///home/gianni/.virtualenvs/TMD/lib/python3.8/site-packages/joblib/parallel.py?line=783'>784</a>\u001b[0m     \u001b[39mself\u001b[39m\u001b[39m.\u001b[39m_jobs\u001b[39m.\u001b[39minsert(job_idx, job)\n",
      "File \u001b[0;32m~/.virtualenvs/TMD/lib/python3.8/site-packages/joblib/_parallel_backends.py:208\u001b[0m, in \u001b[0;36mSequentialBackend.apply_async\u001b[0;34m(self, func, callback)\u001b[0m\n\u001b[1;32m    <a href='file:///home/gianni/.virtualenvs/TMD/lib/python3.8/site-packages/joblib/_parallel_backends.py?line=205'>206</a>\u001b[0m \u001b[39mdef\u001b[39;00m \u001b[39mapply_async\u001b[39m(\u001b[39mself\u001b[39m, func, callback\u001b[39m=\u001b[39m\u001b[39mNone\u001b[39;00m):\n\u001b[1;32m    <a href='file:///home/gianni/.virtualenvs/TMD/lib/python3.8/site-packages/joblib/_parallel_backends.py?line=206'>207</a>\u001b[0m     \u001b[39m\"\"\"Schedule a func to be run\"\"\"\u001b[39;00m\n\u001b[0;32m--> <a href='file:///home/gianni/.virtualenvs/TMD/lib/python3.8/site-packages/joblib/_parallel_backends.py?line=207'>208</a>\u001b[0m     result \u001b[39m=\u001b[39m ImmediateResult(func)\n\u001b[1;32m    <a href='file:///home/gianni/.virtualenvs/TMD/lib/python3.8/site-packages/joblib/_parallel_backends.py?line=208'>209</a>\u001b[0m     \u001b[39mif\u001b[39;00m callback:\n\u001b[1;32m    <a href='file:///home/gianni/.virtualenvs/TMD/lib/python3.8/site-packages/joblib/_parallel_backends.py?line=209'>210</a>\u001b[0m         callback(result)\n",
      "File \u001b[0;32m~/.virtualenvs/TMD/lib/python3.8/site-packages/joblib/_parallel_backends.py:572\u001b[0m, in \u001b[0;36mImmediateResult.__init__\u001b[0;34m(self, batch)\u001b[0m\n\u001b[1;32m    <a href='file:///home/gianni/.virtualenvs/TMD/lib/python3.8/site-packages/joblib/_parallel_backends.py?line=568'>569</a>\u001b[0m \u001b[39mdef\u001b[39;00m \u001b[39m__init__\u001b[39m(\u001b[39mself\u001b[39m, batch):\n\u001b[1;32m    <a href='file:///home/gianni/.virtualenvs/TMD/lib/python3.8/site-packages/joblib/_parallel_backends.py?line=569'>570</a>\u001b[0m     \u001b[39m# Don't delay the application, to avoid keeping the input\u001b[39;00m\n\u001b[1;32m    <a href='file:///home/gianni/.virtualenvs/TMD/lib/python3.8/site-packages/joblib/_parallel_backends.py?line=570'>571</a>\u001b[0m     \u001b[39m# arguments in memory\u001b[39;00m\n\u001b[0;32m--> <a href='file:///home/gianni/.virtualenvs/TMD/lib/python3.8/site-packages/joblib/_parallel_backends.py?line=571'>572</a>\u001b[0m     \u001b[39mself\u001b[39m\u001b[39m.\u001b[39mresults \u001b[39m=\u001b[39m batch()\n",
      "File \u001b[0;32m~/.virtualenvs/TMD/lib/python3.8/site-packages/joblib/parallel.py:262\u001b[0m, in \u001b[0;36mBatchedCalls.__call__\u001b[0;34m(self)\u001b[0m\n\u001b[1;32m    <a href='file:///home/gianni/.virtualenvs/TMD/lib/python3.8/site-packages/joblib/parallel.py?line=257'>258</a>\u001b[0m \u001b[39mdef\u001b[39;00m \u001b[39m__call__\u001b[39m(\u001b[39mself\u001b[39m):\n\u001b[1;32m    <a href='file:///home/gianni/.virtualenvs/TMD/lib/python3.8/site-packages/joblib/parallel.py?line=258'>259</a>\u001b[0m     \u001b[39m# Set the default nested backend to self._backend but do not set the\u001b[39;00m\n\u001b[1;32m    <a href='file:///home/gianni/.virtualenvs/TMD/lib/python3.8/site-packages/joblib/parallel.py?line=259'>260</a>\u001b[0m     \u001b[39m# change the default number of processes to -1\u001b[39;00m\n\u001b[1;32m    <a href='file:///home/gianni/.virtualenvs/TMD/lib/python3.8/site-packages/joblib/parallel.py?line=260'>261</a>\u001b[0m     \u001b[39mwith\u001b[39;00m parallel_backend(\u001b[39mself\u001b[39m\u001b[39m.\u001b[39m_backend, n_jobs\u001b[39m=\u001b[39m\u001b[39mself\u001b[39m\u001b[39m.\u001b[39m_n_jobs):\n\u001b[0;32m--> <a href='file:///home/gianni/.virtualenvs/TMD/lib/python3.8/site-packages/joblib/parallel.py?line=261'>262</a>\u001b[0m         \u001b[39mreturn\u001b[39;00m [func(\u001b[39m*\u001b[39margs, \u001b[39m*\u001b[39m\u001b[39m*\u001b[39mkwargs)\n\u001b[1;32m    <a href='file:///home/gianni/.virtualenvs/TMD/lib/python3.8/site-packages/joblib/parallel.py?line=262'>263</a>\u001b[0m                 \u001b[39mfor\u001b[39;00m func, args, kwargs \u001b[39min\u001b[39;00m \u001b[39mself\u001b[39m\u001b[39m.\u001b[39mitems]\n",
      "File \u001b[0;32m~/.virtualenvs/TMD/lib/python3.8/site-packages/joblib/parallel.py:262\u001b[0m, in \u001b[0;36m<listcomp>\u001b[0;34m(.0)\u001b[0m\n\u001b[1;32m    <a href='file:///home/gianni/.virtualenvs/TMD/lib/python3.8/site-packages/joblib/parallel.py?line=257'>258</a>\u001b[0m \u001b[39mdef\u001b[39;00m \u001b[39m__call__\u001b[39m(\u001b[39mself\u001b[39m):\n\u001b[1;32m    <a href='file:///home/gianni/.virtualenvs/TMD/lib/python3.8/site-packages/joblib/parallel.py?line=258'>259</a>\u001b[0m     \u001b[39m# Set the default nested backend to self._backend but do not set the\u001b[39;00m\n\u001b[1;32m    <a href='file:///home/gianni/.virtualenvs/TMD/lib/python3.8/site-packages/joblib/parallel.py?line=259'>260</a>\u001b[0m     \u001b[39m# change the default number of processes to -1\u001b[39;00m\n\u001b[1;32m    <a href='file:///home/gianni/.virtualenvs/TMD/lib/python3.8/site-packages/joblib/parallel.py?line=260'>261</a>\u001b[0m     \u001b[39mwith\u001b[39;00m parallel_backend(\u001b[39mself\u001b[39m\u001b[39m.\u001b[39m_backend, n_jobs\u001b[39m=\u001b[39m\u001b[39mself\u001b[39m\u001b[39m.\u001b[39m_n_jobs):\n\u001b[0;32m--> <a href='file:///home/gianni/.virtualenvs/TMD/lib/python3.8/site-packages/joblib/parallel.py?line=261'>262</a>\u001b[0m         \u001b[39mreturn\u001b[39;00m [func(\u001b[39m*\u001b[39;49margs, \u001b[39m*\u001b[39;49m\u001b[39m*\u001b[39;49mkwargs)\n\u001b[1;32m    <a href='file:///home/gianni/.virtualenvs/TMD/lib/python3.8/site-packages/joblib/parallel.py?line=262'>263</a>\u001b[0m                 \u001b[39mfor\u001b[39;00m func, args, kwargs \u001b[39min\u001b[39;00m \u001b[39mself\u001b[39m\u001b[39m.\u001b[39mitems]\n",
      "File \u001b[0;32m~/.virtualenvs/TMD/lib/python3.8/site-packages/sklearn/utils/fixes.py:222\u001b[0m, in \u001b[0;36m_FuncWrapper.__call__\u001b[0;34m(self, *args, **kwargs)\u001b[0m\n\u001b[1;32m    <a href='file:///home/gianni/.virtualenvs/TMD/lib/python3.8/site-packages/sklearn/utils/fixes.py?line=219'>220</a>\u001b[0m \u001b[39mdef\u001b[39;00m \u001b[39m__call__\u001b[39m(\u001b[39mself\u001b[39m, \u001b[39m*\u001b[39margs, \u001b[39m*\u001b[39m\u001b[39m*\u001b[39mkwargs):\n\u001b[1;32m    <a href='file:///home/gianni/.virtualenvs/TMD/lib/python3.8/site-packages/sklearn/utils/fixes.py?line=220'>221</a>\u001b[0m     \u001b[39mwith\u001b[39;00m config_context(\u001b[39m*\u001b[39m\u001b[39m*\u001b[39m\u001b[39mself\u001b[39m\u001b[39m.\u001b[39mconfig):\n\u001b[0;32m--> <a href='file:///home/gianni/.virtualenvs/TMD/lib/python3.8/site-packages/sklearn/utils/fixes.py?line=221'>222</a>\u001b[0m         \u001b[39mreturn\u001b[39;00m \u001b[39mself\u001b[39;49m\u001b[39m.\u001b[39;49mfunction(\u001b[39m*\u001b[39;49margs, \u001b[39m*\u001b[39;49m\u001b[39m*\u001b[39;49mkwargs)\n",
      "File \u001b[0;32m~/.virtualenvs/TMD/lib/python3.8/site-packages/sklearn/ensemble/_forest.py:169\u001b[0m, in \u001b[0;36m_parallel_build_trees\u001b[0;34m(tree, forest, X, y, sample_weight, tree_idx, n_trees, verbose, class_weight, n_samples_bootstrap)\u001b[0m\n\u001b[1;32m    <a href='file:///home/gianni/.virtualenvs/TMD/lib/python3.8/site-packages/sklearn/ensemble/_forest.py?line=164'>165</a>\u001b[0m     \u001b[39melif\u001b[39;00m class_weight \u001b[39m==\u001b[39m \u001b[39m'\u001b[39m\u001b[39mbalanced_subsample\u001b[39m\u001b[39m'\u001b[39m:\n\u001b[1;32m    <a href='file:///home/gianni/.virtualenvs/TMD/lib/python3.8/site-packages/sklearn/ensemble/_forest.py?line=165'>166</a>\u001b[0m         curr_sample_weight \u001b[39m*\u001b[39m\u001b[39m=\u001b[39m compute_sample_weight(\u001b[39m'\u001b[39m\u001b[39mbalanced\u001b[39m\u001b[39m'\u001b[39m, y,\n\u001b[1;32m    <a href='file:///home/gianni/.virtualenvs/TMD/lib/python3.8/site-packages/sklearn/ensemble/_forest.py?line=166'>167</a>\u001b[0m                                                     indices\u001b[39m=\u001b[39mindices)\n\u001b[0;32m--> <a href='file:///home/gianni/.virtualenvs/TMD/lib/python3.8/site-packages/sklearn/ensemble/_forest.py?line=168'>169</a>\u001b[0m     tree\u001b[39m.\u001b[39;49mfit(X, y, sample_weight\u001b[39m=\u001b[39;49mcurr_sample_weight, check_input\u001b[39m=\u001b[39;49m\u001b[39mFalse\u001b[39;49;00m)\n\u001b[1;32m    <a href='file:///home/gianni/.virtualenvs/TMD/lib/python3.8/site-packages/sklearn/ensemble/_forest.py?line=169'>170</a>\u001b[0m \u001b[39melse\u001b[39;00m:\n\u001b[1;32m    <a href='file:///home/gianni/.virtualenvs/TMD/lib/python3.8/site-packages/sklearn/ensemble/_forest.py?line=170'>171</a>\u001b[0m     tree\u001b[39m.\u001b[39mfit(X, y, sample_weight\u001b[39m=\u001b[39msample_weight, check_input\u001b[39m=\u001b[39m\u001b[39mFalse\u001b[39;00m)\n",
      "File \u001b[0;32m~/.virtualenvs/TMD/lib/python3.8/site-packages/sklearn/tree/_classes.py:903\u001b[0m, in \u001b[0;36mDecisionTreeClassifier.fit\u001b[0;34m(self, X, y, sample_weight, check_input, X_idx_sorted)\u001b[0m\n\u001b[1;32m    <a href='file:///home/gianni/.virtualenvs/TMD/lib/python3.8/site-packages/sklearn/tree/_classes.py?line=865'>866</a>\u001b[0m \u001b[39mdef\u001b[39;00m \u001b[39mfit\u001b[39m(\u001b[39mself\u001b[39m, X, y, sample_weight\u001b[39m=\u001b[39m\u001b[39mNone\u001b[39;00m, check_input\u001b[39m=\u001b[39m\u001b[39mTrue\u001b[39;00m,\n\u001b[1;32m    <a href='file:///home/gianni/.virtualenvs/TMD/lib/python3.8/site-packages/sklearn/tree/_classes.py?line=866'>867</a>\u001b[0m         X_idx_sorted\u001b[39m=\u001b[39m\u001b[39m\"\u001b[39m\u001b[39mdeprecated\u001b[39m\u001b[39m\"\u001b[39m):\n\u001b[1;32m    <a href='file:///home/gianni/.virtualenvs/TMD/lib/python3.8/site-packages/sklearn/tree/_classes.py?line=867'>868</a>\u001b[0m     \u001b[39m\"\"\"Build a decision tree classifier from the training set (X, y).\u001b[39;00m\n\u001b[1;32m    <a href='file:///home/gianni/.virtualenvs/TMD/lib/python3.8/site-packages/sklearn/tree/_classes.py?line=868'>869</a>\u001b[0m \n\u001b[1;32m    <a href='file:///home/gianni/.virtualenvs/TMD/lib/python3.8/site-packages/sklearn/tree/_classes.py?line=869'>870</a>\u001b[0m \u001b[39m    Parameters\u001b[39;00m\n\u001b[0;32m   (...)\u001b[0m\n\u001b[1;32m    <a href='file:///home/gianni/.virtualenvs/TMD/lib/python3.8/site-packages/sklearn/tree/_classes.py?line=899'>900</a>\u001b[0m \u001b[39m        Fitted estimator.\u001b[39;00m\n\u001b[1;32m    <a href='file:///home/gianni/.virtualenvs/TMD/lib/python3.8/site-packages/sklearn/tree/_classes.py?line=900'>901</a>\u001b[0m \u001b[39m    \"\"\"\u001b[39;00m\n\u001b[0;32m--> <a href='file:///home/gianni/.virtualenvs/TMD/lib/python3.8/site-packages/sklearn/tree/_classes.py?line=902'>903</a>\u001b[0m     \u001b[39msuper\u001b[39;49m()\u001b[39m.\u001b[39;49mfit(\n\u001b[1;32m    <a href='file:///home/gianni/.virtualenvs/TMD/lib/python3.8/site-packages/sklearn/tree/_classes.py?line=903'>904</a>\u001b[0m         X, y,\n\u001b[1;32m    <a href='file:///home/gianni/.virtualenvs/TMD/lib/python3.8/site-packages/sklearn/tree/_classes.py?line=904'>905</a>\u001b[0m         sample_weight\u001b[39m=\u001b[39;49msample_weight,\n\u001b[1;32m    <a href='file:///home/gianni/.virtualenvs/TMD/lib/python3.8/site-packages/sklearn/tree/_classes.py?line=905'>906</a>\u001b[0m         check_input\u001b[39m=\u001b[39;49mcheck_input,\n\u001b[1;32m    <a href='file:///home/gianni/.virtualenvs/TMD/lib/python3.8/site-packages/sklearn/tree/_classes.py?line=906'>907</a>\u001b[0m         X_idx_sorted\u001b[39m=\u001b[39;49mX_idx_sorted)\n\u001b[1;32m    <a href='file:///home/gianni/.virtualenvs/TMD/lib/python3.8/site-packages/sklearn/tree/_classes.py?line=907'>908</a>\u001b[0m     \u001b[39mreturn\u001b[39;00m \u001b[39mself\u001b[39m\n",
      "File \u001b[0;32m~/.virtualenvs/TMD/lib/python3.8/site-packages/sklearn/tree/_classes.py:394\u001b[0m, in \u001b[0;36mBaseDecisionTree.fit\u001b[0;34m(self, X, y, sample_weight, check_input, X_idx_sorted)\u001b[0m\n\u001b[1;32m    <a href='file:///home/gianni/.virtualenvs/TMD/lib/python3.8/site-packages/sklearn/tree/_classes.py?line=384'>385</a>\u001b[0m \u001b[39melse\u001b[39;00m:\n\u001b[1;32m    <a href='file:///home/gianni/.virtualenvs/TMD/lib/python3.8/site-packages/sklearn/tree/_classes.py?line=385'>386</a>\u001b[0m     builder \u001b[39m=\u001b[39m BestFirstTreeBuilder(splitter, min_samples_split,\n\u001b[1;32m    <a href='file:///home/gianni/.virtualenvs/TMD/lib/python3.8/site-packages/sklearn/tree/_classes.py?line=386'>387</a>\u001b[0m                                    min_samples_leaf,\n\u001b[1;32m    <a href='file:///home/gianni/.virtualenvs/TMD/lib/python3.8/site-packages/sklearn/tree/_classes.py?line=387'>388</a>\u001b[0m                                    min_weight_leaf,\n\u001b[0;32m   (...)\u001b[0m\n\u001b[1;32m    <a href='file:///home/gianni/.virtualenvs/TMD/lib/python3.8/site-packages/sklearn/tree/_classes.py?line=390'>391</a>\u001b[0m                                    \u001b[39mself\u001b[39m\u001b[39m.\u001b[39mmin_impurity_decrease,\n\u001b[1;32m    <a href='file:///home/gianni/.virtualenvs/TMD/lib/python3.8/site-packages/sklearn/tree/_classes.py?line=391'>392</a>\u001b[0m                                    min_impurity_split)\n\u001b[0;32m--> <a href='file:///home/gianni/.virtualenvs/TMD/lib/python3.8/site-packages/sklearn/tree/_classes.py?line=393'>394</a>\u001b[0m builder\u001b[39m.\u001b[39;49mbuild(\u001b[39mself\u001b[39;49m\u001b[39m.\u001b[39;49mtree_, X, y, sample_weight)\n\u001b[1;32m    <a href='file:///home/gianni/.virtualenvs/TMD/lib/python3.8/site-packages/sklearn/tree/_classes.py?line=395'>396</a>\u001b[0m \u001b[39mif\u001b[39;00m \u001b[39mself\u001b[39m\u001b[39m.\u001b[39mn_outputs_ \u001b[39m==\u001b[39m \u001b[39m1\u001b[39m \u001b[39mand\u001b[39;00m is_classifier(\u001b[39mself\u001b[39m):\n\u001b[1;32m    <a href='file:///home/gianni/.virtualenvs/TMD/lib/python3.8/site-packages/sklearn/tree/_classes.py?line=396'>397</a>\u001b[0m     \u001b[39mself\u001b[39m\u001b[39m.\u001b[39mn_classes_ \u001b[39m=\u001b[39m \u001b[39mself\u001b[39m\u001b[39m.\u001b[39mn_classes_[\u001b[39m0\u001b[39m]\n",
      "\u001b[0;31mKeyboardInterrupt\u001b[0m: "
     ]
    }
   ],
   "source": [
    "estimator = RandomForestClassifier(n_estimators=1000)\n",
    "n_splits = 2\n",
    "param_grid = {\"max_features\": [4]}#[2, 3, 4, 6, 8]}\n",
    "\n",
    "err_estimator(filtered_df, target, estimator, n_splits, param_grid)"
   ]
  },
  {
   "cell_type": "markdown",
   "metadata": {},
   "source": [
    "## SVM Polinomial\n",
    " Me quiero sacar las ganas de que SVM ande bien. Esta vez los datos ya los escalé previamente. Usando la implementación [SVC](https://scikit-learn.org/stable/modules/generated/sklearn.svm.SVC.html?highlight=svc#sklearn.svm.SVC) con `kernel=\"poly\"`, voy a ajustar `C` y `degree`, el grado del polinomio."
   ]
  },
  {
   "cell_type": "code",
   "execution_count": null,
   "metadata": {},
   "outputs": [],
   "source": [
    "from sklearn.svm import SVC\n",
    "\n",
    "estimator = SVC(kernel=\"poly\")\n",
    "n_splits = 5\n",
    "param_grid = {\"degree\": list(range(1, 7)), \"C\": [0.001, 0.01, 0.1, 1, 10, 100, 1000]}\n",
    "\n",
    "err_estimator(filtered_df, target, estimator, n_splits, param_grid)"
   ]
  },
  {
   "cell_type": "markdown",
   "metadata": {},
   "source": [
    "## SVM RBF\n",
    " Y seguimos con SVM. De nuevo, uso [SVC](https://scikit-learn.org/stable/modules/generated/sklearn.svm.SVC.html?highlight=svc#sklearn.svm.SVC), aunque esta vez con `kernel=\"rbf\"`. Voy a ajustar `C` y `gamma`."
   ]
  },
  {
   "cell_type": "code",
   "execution_count": null,
   "metadata": {},
   "outputs": [],
   "source": [
    "file_stem = \"lampone\"\n",
    "estimator = SVC(kernel=\"rbf\")\n",
    "n_splits = 5\n",
    "param_grid = {\n",
    "    \"gamma\": np.logspace(-10, 10, 21),\n",
    "    \"C\": np.logspace(-10, 10, 21),\n",
    "}"
   ]
  },
  {
   "cell_type": "markdown",
   "metadata": {},
   "source": [
    "## Conclusiones"
   ]
  }
 ],
 "metadata": {
  "interpreter": {
   "hash": "5cf67404009223a149f1ac82df5e8065ed938111b94819fe08ca8f4545852b74"
  },
  "kernelspec": {
   "display_name": "Python 3.8.10 ('TMD')",
   "language": "python",
   "name": "python3"
  },
  "language_info": {
   "codemirror_mode": {
    "name": "ipython",
    "version": 3
   },
   "file_extension": ".py",
   "mimetype": "text/x-python",
   "name": "python",
   "nbconvert_exporter": "python",
   "pygments_lexer": "ipython3",
   "version": "3.8.10"
  },
  "orig_nbformat": 4
 },
 "nbformat": 4,
 "nbformat_minor": 2
}
